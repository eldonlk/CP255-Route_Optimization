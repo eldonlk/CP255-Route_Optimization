{
 "cells": [
  {
   "cell_type": "code",
   "execution_count": 29,
   "metadata": {},
   "outputs": [],
   "source": [
    "import zipfile\n",
    "import numpy as np\n",
    "import pandas as pd\n",
    "from datetime import datetime\n",
    "from datetime import timedelta\n",
    "import random\n",
    "import math\n",
    "from itertools import permutations\n",
    "import geopandas as gpd\n",
    "import matplotlib.pyplot as plt\n",
    "\n",
    "from sklearn.model_selection import train_test_split\n",
    "from sklearn.metrics import mean_squared_log_error\n",
    "import xgboost as xgb\n",
    "\n",
    "from copy import copy\n",
    "import pickle\n",
    "\n",
    "import pickle"
   ]
  },
  {
   "cell_type": "markdown",
   "metadata": {},
   "source": [
    "# XGB Model"
   ]
  },
  {
   "cell_type": "code",
   "execution_count": 2,
   "metadata": {},
   "outputs": [],
   "source": [
    "#loading data\n",
    "taxi_train = pd.read_csv('data/train.csv')"
   ]
  },
  {
   "cell_type": "markdown",
   "metadata": {},
   "source": [
    "## Data Preprocessing\n",
    "The first step is to clean the data. I intend to train the model with both pick and drop off locations along with the pickup month, day, hour, and minute. Once again, I am using such a precise time element because it can account for weather and traffic which can be cyclical throughout the year. To make things eaiser/quicker I create a cleaning function which extracts and keeps only the information I need from the training dataset."
   ]
  },
  {
   "cell_type": "code",
   "execution_count": 19,
   "metadata": {},
   "outputs": [],
   "source": [
    "def clean_df(input_df):\n",
    "    \n",
    "    df = input_df\n",
    "    \n",
    "    #columns we want to keep\n",
    "    col_list = ['pickup_longitude', \n",
    "        'pickup_latitude', \n",
    "        'dropoff_longitude', \n",
    "        'dropoff_latitude', \n",
    "        'trip_duration',\n",
    "        'pickup_minute',\n",
    "        'pickup_hour',\n",
    "        'pickup_month',\n",
    "        'pickup_day',\n",
    "        'pickup_weekday']\n",
    "    \n",
    "    #changing datetime column to datetime class\n",
    "    df['pickup_datetime_hold'] = pd.to_datetime(df['pickup_datetime'])\n",
    "    \n",
    "    #adding minute column\n",
    "    df['pickup_minute'] = df.apply(lambda x: x.pickup_datetime_hold.minute, axis = 1) \n",
    "\n",
    "    #adding hour column\n",
    "    df['pickup_hour'] = df.apply(lambda x: x.pickup_datetime_hold.hour, axis = 1) \n",
    "\n",
    "    #adding month column\n",
    "    df['pickup_month'] = df.apply(lambda x: x.pickup_datetime_hold.month, axis = 1) \n",
    "\n",
    "    #adding day of month column\n",
    "    df['pickup_day'] = df.apply(lambda x: x.pickup_datetime_hold.day, axis = 1) \n",
    "\n",
    "    #adding day of week column\n",
    "    df['pickup_weekday'] = df.apply(lambda x: datetime.weekday(x.pickup_datetime_hold), axis = 1) \n",
    "    \n",
    "    return(df[df.columns.intersection(col_list)])"
   ]
  },
  {
   "cell_type": "code",
   "execution_count": 6,
   "metadata": {
    "scrolled": false
   },
   "outputs": [],
   "source": [
    "taxi_train_clean = clean_df(taxi_train)"
   ]
  },
  {
   "cell_type": "code",
   "execution_count": 7,
   "metadata": {
    "scrolled": false
   },
   "outputs": [
    {
     "data": {
      "text/html": [
       "<div>\n",
       "<style scoped>\n",
       "    .dataframe tbody tr th:only-of-type {\n",
       "        vertical-align: middle;\n",
       "    }\n",
       "\n",
       "    .dataframe tbody tr th {\n",
       "        vertical-align: top;\n",
       "    }\n",
       "\n",
       "    .dataframe thead th {\n",
       "        text-align: right;\n",
       "    }\n",
       "</style>\n",
       "<table border=\"1\" class=\"dataframe\">\n",
       "  <thead>\n",
       "    <tr style=\"text-align: right;\">\n",
       "      <th></th>\n",
       "      <th>pickup_longitude</th>\n",
       "      <th>pickup_latitude</th>\n",
       "      <th>dropoff_longitude</th>\n",
       "      <th>dropoff_latitude</th>\n",
       "      <th>trip_duration</th>\n",
       "      <th>pickup_minute</th>\n",
       "      <th>pickup_hour</th>\n",
       "      <th>pickup_month</th>\n",
       "      <th>pickup_day</th>\n",
       "      <th>pickup_weekday</th>\n",
       "    </tr>\n",
       "  </thead>\n",
       "  <tbody>\n",
       "    <tr>\n",
       "      <td>0</td>\n",
       "      <td>-73.982155</td>\n",
       "      <td>40.767937</td>\n",
       "      <td>-73.964630</td>\n",
       "      <td>40.765602</td>\n",
       "      <td>455</td>\n",
       "      <td>24</td>\n",
       "      <td>17</td>\n",
       "      <td>3</td>\n",
       "      <td>14</td>\n",
       "      <td>0</td>\n",
       "    </tr>\n",
       "    <tr>\n",
       "      <td>1</td>\n",
       "      <td>-73.980415</td>\n",
       "      <td>40.738564</td>\n",
       "      <td>-73.999481</td>\n",
       "      <td>40.731152</td>\n",
       "      <td>663</td>\n",
       "      <td>43</td>\n",
       "      <td>0</td>\n",
       "      <td>6</td>\n",
       "      <td>12</td>\n",
       "      <td>6</td>\n",
       "    </tr>\n",
       "    <tr>\n",
       "      <td>2</td>\n",
       "      <td>-73.979027</td>\n",
       "      <td>40.763939</td>\n",
       "      <td>-74.005333</td>\n",
       "      <td>40.710087</td>\n",
       "      <td>2124</td>\n",
       "      <td>35</td>\n",
       "      <td>11</td>\n",
       "      <td>1</td>\n",
       "      <td>19</td>\n",
       "      <td>1</td>\n",
       "    </tr>\n",
       "    <tr>\n",
       "      <td>3</td>\n",
       "      <td>-74.010040</td>\n",
       "      <td>40.719971</td>\n",
       "      <td>-74.012268</td>\n",
       "      <td>40.706718</td>\n",
       "      <td>429</td>\n",
       "      <td>32</td>\n",
       "      <td>19</td>\n",
       "      <td>4</td>\n",
       "      <td>6</td>\n",
       "      <td>2</td>\n",
       "    </tr>\n",
       "    <tr>\n",
       "      <td>4</td>\n",
       "      <td>-73.973053</td>\n",
       "      <td>40.793209</td>\n",
       "      <td>-73.972923</td>\n",
       "      <td>40.782520</td>\n",
       "      <td>435</td>\n",
       "      <td>30</td>\n",
       "      <td>13</td>\n",
       "      <td>3</td>\n",
       "      <td>26</td>\n",
       "      <td>5</td>\n",
       "    </tr>\n",
       "  </tbody>\n",
       "</table>\n",
       "</div>"
      ],
      "text/plain": [
       "   pickup_longitude  pickup_latitude  dropoff_longitude  dropoff_latitude  \\\n",
       "0        -73.982155        40.767937         -73.964630         40.765602   \n",
       "1        -73.980415        40.738564         -73.999481         40.731152   \n",
       "2        -73.979027        40.763939         -74.005333         40.710087   \n",
       "3        -74.010040        40.719971         -74.012268         40.706718   \n",
       "4        -73.973053        40.793209         -73.972923         40.782520   \n",
       "\n",
       "   trip_duration  pickup_minute  pickup_hour  pickup_month  pickup_day  \\\n",
       "0            455             24           17             3          14   \n",
       "1            663             43            0             6          12   \n",
       "2           2124             35           11             1          19   \n",
       "3            429             32           19             4           6   \n",
       "4            435             30           13             3          26   \n",
       "\n",
       "   pickup_weekday  \n",
       "0               0  \n",
       "1               6  \n",
       "2               1  \n",
       "3               2  \n",
       "4               5  "
      ]
     },
     "execution_count": 7,
     "metadata": {},
     "output_type": "execute_result"
    }
   ],
   "source": [
    "taxi_train_clean.head()"
   ]
  },
  {
   "cell_type": "markdown",
   "metadata": {},
   "source": [
    "I put the data into a holding data frame so we can keep the original clean data intact for other purposes."
   ]
  },
  {
   "cell_type": "code",
   "execution_count": 8,
   "metadata": {},
   "outputs": [],
   "source": [
    "hold = taxi_train_clean"
   ]
  },
  {
   "cell_type": "markdown",
   "metadata": {},
   "source": [
    "## Preparing the data for training\n",
    "The next step is to split our data into our dependent and independent variables then split the set into training, validation, and testing sets."
   ]
  },
  {
   "cell_type": "code",
   "execution_count": 10,
   "metadata": {},
   "outputs": [],
   "source": [
    "#preparing dependent and independent variables\n",
    "X = hold.drop([\"trip_duration\"], axis=1)\n",
    "y = hold[\"trip_duration\"]"
   ]
  },
  {
   "cell_type": "code",
   "execution_count": 52,
   "metadata": {},
   "outputs": [],
   "source": [
    "#Split the data into training, test, and valdiation sets\n",
    "X_train, X_test, y_train, y_test = train_test_split(X, y, test_size = 0.3, random_state = 1234)\n",
    "X_train, X_val, y_train, y_val = train_test_split(X_train, y_train, test_size = 0.25, random_state = 4321)"
   ]
  },
  {
   "cell_type": "markdown",
   "metadata": {},
   "source": [
    "## Training the Model\n",
    "In addition, I am using a mean squared log error for our evaluation function, used in most Kaggle competitions. As you can see from the model parameters below I chose to use a gradient boosted tree. The learning rate is the step size shrinkage used in update to prevents overfitting. After each boosting step, we can directly get the weights of new features, and eta shrinks the feature weights to make the boosting process more conservative. Subsample samples our training data randomly prior to growing trees to prevent overfitting. Maximum depth of the tree is 14. Alot of these paramters are a trial and error and have room to be further fine tuned for improvement.\n",
    "\n",
    "Using this article: https://towardsdatascience.com/travel-time-optimization-with-machine-learning-and-genetic-algorithm-71b40a3a4c2 for setting up the gradient boosted model."
   ]
  },
  {
   "cell_type": "code",
   "execution_count": 53,
   "metadata": {},
   "outputs": [],
   "source": [
    "#grading mean squared log error\n",
    "def rmsle(y_true, y_pred):\n",
    "    return np.sqrt(mean_squared_log_error(y_true, y_pred))"
   ]
  },
  {
   "cell_type": "code",
   "execution_count": 54,
   "metadata": {},
   "outputs": [],
   "source": [
    "#XGBoost parameters \n",
    "params = {\n",
    "    'booster':            'gbtree',\n",
    "#     'objective':          'reg:squarederror',\n",
    "    'objective':          'reg:linear',\n",
    "    'learning_rate':      0.05,\n",
    "    'max_depth':          14,\n",
    "    'subsample':          0.9,\n",
    "    'colsample_bytree':   0.7,\n",
    "    'colsample_bylevel':  0.7,\n",
    "    'silent':             1,\n",
    "    'feval':              'rmsle'\n",
    "}"
   ]
  },
  {
   "cell_type": "markdown",
   "metadata": {},
   "source": [
    "Going through 2000 rounds and I am log transforming the trip_duration/y variable to adjust for some of our positive outliers. If you remember, our trip duration data was right skewed."
   ]
  },
  {
   "cell_type": "code",
   "execution_count": 55,
   "metadata": {},
   "outputs": [],
   "source": [
    "#setting the number of rounds\n",
    "nrounds = 2500"
   ]
  },
  {
   "cell_type": "code",
   "execution_count": 56,
   "metadata": {},
   "outputs": [],
   "source": [
    "#Define train and validation sets\n",
    "dtrain = xgb.DMatrix(X_train, np.log(y_train+1))\n",
    "dval = xgb.DMatrix(X_val, np.log(y_val+1))\n",
    "\n",
    "#error tracking\n",
    "watchlist = [(dval, 'eval'), (dtrain, 'train')]"
   ]
  },
  {
   "cell_type": "code",
   "execution_count": 1,
   "metadata": {
    "scrolled": false
   },
   "outputs": [],
   "source": [
    "#Train model\n",
    "gbm = xgb.train(params,\n",
    "                dtrain,\n",
    "                num_boost_round = nrounds,\n",
    "                evals = watchlist,\n",
    "                verbose_eval = True\n",
    "                )"
   ]
  },
  {
   "cell_type": "markdown",
   "metadata": {},
   "source": [
    "## Model Evaluation\n",
    "After training, we can evaluate the model using our testing data. I use both mean absolute error and mean squared error to see how accurate our model is as well as the feature scores. Note that everything was kept in seconds so our mean absolute error is a little below 5 minutes. "
   ]
  },
  {
   "cell_type": "code",
   "execution_count": 58,
   "metadata": {},
   "outputs": [],
   "source": [
    "#Test predictions\n",
    "pred = np.exp(gbm.predict(xgb.DMatrix(X_test))) - 1"
   ]
  },
  {
   "cell_type": "code",
   "execution_count": 59,
   "metadata": {},
   "outputs": [
    {
     "data": {
      "text/plain": [
       "294.1531321177894"
      ]
     },
     "execution_count": 59,
     "metadata": {},
     "output_type": "execute_result"
    }
   ],
   "source": [
    "#mean absolute error\n",
    "mae = (abs(pred - y_test)).mean()\n",
    "mae"
   ]
  },
  {
   "cell_type": "code",
   "execution_count": 60,
   "metadata": {},
   "outputs": [
    {
     "data": {
      "text/plain": [
       "58472689.27418018"
      ]
     },
     "execution_count": 60,
     "metadata": {},
     "output_type": "execute_result"
    }
   ],
   "source": [
    "#mean squared error\n",
    "mse = ((pred - y_test)**2).mean()\n",
    "mse"
   ]
  },
  {
   "cell_type": "markdown",
   "metadata": {},
   "source": [
    "Looking at the features, we can see which is weighted the highest which is the pickup and dropoff location as expected."
   ]
  },
  {
   "cell_type": "code",
   "execution_count": 61,
   "metadata": {},
   "outputs": [
    {
     "data": {
      "text/plain": [
       "{'dropoff_longitude': 1252751,\n",
       " 'dropoff_latitude': 1311050,\n",
       " 'pickup_latitude': 1379210,\n",
       " 'pickup_minute': 809332,\n",
       " 'pickup_month': 372883,\n",
       " 'pickup_day': 637713,\n",
       " 'pickup_longitude': 1491557,\n",
       " 'pickup_weekday': 354872,\n",
       " 'pickup_hour': 623950}"
      ]
     },
     "execution_count": 61,
     "metadata": {},
     "output_type": "execute_result"
    }
   ],
   "source": [
    "#feature scores\n",
    "feature_scores = gbm.get_fscore()\n",
    "feature_scores"
   ]
  },
  {
   "cell_type": "code",
   "execution_count": 62,
   "metadata": {},
   "outputs": [
    {
     "data": {
      "text/plain": [
       "{'dropoff_longitude': 0.15215627527079606,\n",
       " 'dropoff_latitude': 0.15923713866025824,\n",
       " 'pickup_latitude': 0.16751569658793697,\n",
       " 'pickup_minute': 0.09829961626649183,\n",
       " 'pickup_month': 0.04528951754323105,\n",
       " 'pickup_day': 0.07745516449139946,\n",
       " 'pickup_longitude': 0.18116110661582607,\n",
       " 'pickup_weekday': 0.04310194261900245,\n",
       " 'pickup_hour': 0.07578354194505788}"
      ]
     },
     "execution_count": 62,
     "metadata": {},
     "output_type": "execute_result"
    }
   ],
   "source": [
    "#scale feature scores\n",
    "feat_sum = 0\n",
    "\n",
    "for key in feature_scores:\n",
    "    feat_sum= feat_sum + feature_scores[key]\n",
    "\n",
    "for key in feature_scores:\n",
    "    feature_scores[key] = feature_scores[key] / feat_sum\n",
    "\n",
    "feature_scores"
   ]
  },
  {
   "cell_type": "markdown",
   "metadata": {},
   "source": [
    "# Genetic Algorithm\n",
    "A genetic algorithm works when we have a population. Each member of the population have a certain fitness score and depending on that fitness score determines how often they will breed. After we have a set of parents we cross them and create a new set of children which is then the next generation. The idea is doing this enough times, we will get the highest fitness population in the end after a certain amount of generations. \n",
    "\n",
    "We will be using method to help determine the optimal order in which to pickup packages/passengers given a series of locations. Using our trained model to predict the total time of the trip.\n",
    "\n",
    "## Auxiliary Functions\n",
    "The next step is to create auxiliary functions for our genetic algorithm."
   ]
  },
  {
   "cell_type": "markdown",
   "metadata": {},
   "source": [
    "The convert function breaks the seconds down into hours, minutes, seconds, and seconds. We will use this to add time to our initial start time after reaching our first pickup location to get the most accurate trip duration."
   ]
  },
  {
   "cell_type": "code",
   "execution_count": 1,
   "metadata": {},
   "outputs": [],
   "source": [
    "#converting seconds into hour, minutes, seconds, microseconds\n",
    "def convert(start_time, add): \n",
    "    add = add % (24 * 3600) \n",
    "    hour = add // 3600\n",
    "    add %= 3600\n",
    "    minutes = add // 60\n",
    "    add %= 60\n",
    "      \n",
    "    return(start_time + timedelta(seconds=add, minutes=minutes, hours=hour)) "
   ]
  },
  {
   "cell_type": "markdown",
   "metadata": {},
   "source": [
    "The next two functions simply set up our data ready to be inputted into the model we trained to predict the trip duration"
   ]
  },
  {
   "cell_type": "code",
   "execution_count": 2,
   "metadata": {},
   "outputs": [],
   "source": [
    "#setup function to only keep columns we want\n",
    "def setup(x):\n",
    "    hold = pd.concat([x, x.shift(-1)], axis = 1).dropna()\n",
    "    hold.columns = ['pickup_longitude', 'pickup_latitude', 'dropoff_longitude', 'dropoff_latitude'] \n",
    "    return(hold)"
   ]
  },
  {
   "cell_type": "code",
   "execution_count": 3,
   "metadata": {},
   "outputs": [],
   "source": [
    "#prepare dataframe to be inputted into model\n",
    "def set_model_input(x, ind, time):\n",
    "    hold = x.iloc[ind].to_frame().T\n",
    "    hold['pickup_datetime'] = time\n",
    "    return(clean_df(hold))"
   ]
  },
  {
   "cell_type": "markdown",
   "metadata": {},
   "source": [
    "Next is a total time function which will return the total time of a trip after visiting an inputted amount of checkpoints. We want to minimize this time in the genetic algorithm. It will also be used as our fitness score to choose parents for the children."
   ]
  },
  {
   "cell_type": "code",
   "execution_count": 4,
   "metadata": {},
   "outputs": [],
   "source": [
    "#return total time of a set of trips\n",
    "def get_total_time(x, start_time):\n",
    "    \n",
    "    #setting up intial input df, time, and holding array\n",
    "    temp = setup(x)\n",
    "    start_time_hold = start_time\n",
    "    time_total = [0] * len(temp)\n",
    "    \n",
    "    for i in range(len(temp)):\n",
    "        hold = set_model_input(temp, i, start_time_hold)\n",
    "        trip_dur = (np.exp(model.predict(xgb.DMatrix(hold))) - 1)[0]\n",
    "        time_total[i] = trip_dur\n",
    "        start_time_hold = convert(start_time_hold, trip_dur)\n",
    "        \n",
    "    return(sum(time_total))"
   ]
  },
  {
   "cell_type": "markdown",
   "metadata": {},
   "source": [
    "The next series of functions will create a random intial population. In this case it creates a series of random orders of our locations to start. We then rank each of these route orders using the total trip duration function. Afterwards they are ranked from the trip duration, giving a higher rank to those which have shorter duration times. The rank is then used to calculate a probability of it being chosen as a parent for the next generation (higher rank = higher chance of becoming a parent). After creating two sets of parents we cross them. Half of the points chosen at random in one set of parents are kept and the other half will be filled from the other set of parents. If the gap is filled with a number already in the set, it will be filled with a random point that is available so that in the end each child is still contains one of each pickup location. "
   ]
  },
  {
   "cell_type": "code",
   "execution_count": 5,
   "metadata": {},
   "outputs": [],
   "source": [
    "#get intial population for GA\n",
    "def get_init_pop(x, num):\n",
    "    \n",
    "    hold = []\n",
    "    pop = list(range(x))\n",
    "    \n",
    "    for i in range(num):\n",
    "        hold.append((random.sample(pop,x)))\n",
    "        \n",
    "    return(hold)"
   ]
  },
  {
   "cell_type": "code",
   "execution_count": 6,
   "metadata": {},
   "outputs": [],
   "source": [
    "#prepare/rank intial population\n",
    "def rank(input_pop, orig_pts, datetime):\n",
    "    \n",
    "    hold_df = pd.DataFrame(input_pop)\n",
    "    \n",
    "    total_time_hold = [0] * len(input_pop)\n",
    "    \n",
    "    for i in range(len(input_pop)):\n",
    "        total_time_hold[i] = get_total_time(orig_pts.reindex(input_pop[i]), datetime)\n",
    "    \n",
    "    #add total time column / fitness \n",
    "    hold_df['total_time'] = total_time_hold\n",
    "    \n",
    "    #add rank column which gives the highest rank to the combination with the lowest total trip duration\n",
    "    hold_df['rank'] = len(hold_df) - hold_df['total_time'].rank() + 1\n",
    "    \n",
    "    #add chance column which uses rank to calculate probability of being chosen as a parent\n",
    "    ##higher fitness means higher chance of breeding\n",
    "    hold_df['chance'] = hold_df['rank']*2/(len(hold_df)*(len(hold_df)+1))\n",
    "    \n",
    "    return(hold_df)   "
   ]
  },
  {
   "cell_type": "code",
   "execution_count": 7,
   "metadata": {},
   "outputs": [],
   "source": [
    "#choose a set parents from our population based on the fitness\n",
    "##parents shouls be equal \n",
    "def get_parent(input_df):\n",
    "    pop_size = len(input_df)\n",
    "    which_parent = np.random.choice(pop_size, pop_size, p = input_df['chance'])\n",
    "    num_chrom = len(list(set(input_df.columns) - set(['total_time', 'rank', 'chance'])))\n",
    "    parent = input_df.reindex(which_parent).iloc[:,:num_chrom].to_numpy()\n",
    "    return(parent)"
   ]
  },
  {
   "cell_type": "code",
   "execution_count": 8,
   "metadata": {},
   "outputs": [],
   "source": [
    "#cross parent chromosomes\n",
    "def cross(parent1, parent2):\n",
    "    \n",
    "    #how many chromosomes we want to keep from each parent\n",
    "    num_parent = len(parent1)\n",
    "    num_chrom = len(parent1[0])\n",
    "    num_one = math.ceil(num_chrom/2)\n",
    "    num_zero = num_chrom - math.ceil(num_chrom/2) #safer option than using floor\n",
    "    \n",
    "    chrom_filter_source = ([1] * num_one) + ([0]*num_zero)\n",
    "    \n",
    "    #create #create a \"filter\" for our chromosomes\n",
    "    chrom_filter = []\n",
    "    for i in range(num_parent):\n",
    "        chrom_filter.append((random.sample(chrom_filter_source, num_chrom)))\n",
    "        \n",
    "    #create opposite filter for our second parent\n",
    "    chrom_filter2 = abs(np.subtract(chrom_filter, 1))\n",
    "    \n",
    "    #need to add 1 because our lowest number right now is 0 if left alone when filtered, we will have multipl 0's\n",
    "    new_parent1 = np.multiply(np.add(parent1,1), chrom_filter)  \n",
    "    new_parent2 = np.multiply(np.add(parent2,1), chrom_filter2)\n",
    "    \n",
    "    #loop through all parents and cross chromosomes\n",
    "    for i in range(num_parent):\n",
    "        #only look at couples with matching chromosomes\n",
    "        if(any(x in new_parent1[i] for x in new_parent2[i])):\n",
    "            #available chromosomes to choose from to fill gaps\n",
    "            not_set = list(set(list(range(num_chrom+1))[1:]) - set(new_parent1[i] + new_parent2[i]))\n",
    "            #fill gaps\n",
    "            for idx, j in enumerate(new_parent2[i]):\n",
    "                if (j in new_parent1[i] and j != 0):\n",
    "                    insert = random.sample(not_set, 1)[0]\n",
    "                    new_parent1[i,idx] = insert\n",
    "                    new_parent2[i,idx] = 0\n",
    "                    not_set.remove(insert) #once a chromosome is used remove it from possible choices\n",
    "    \n",
    "    #add them together as a cross\n",
    "    return(np.add(new_parent1, new_parent2))"
   ]
  },
  {
   "cell_type": "code",
   "execution_count": 9,
   "metadata": {},
   "outputs": [],
   "source": [
    "#getting the next generation\n",
    "def get_next_gen(input_df):\n",
    "    p1 = get_parent(input_df)\n",
    "    p2 = get_parent(input_df)\n",
    "    next_gen = np.subtract(cross(p1, p2),1)\n",
    "    return(next_gen)"
   ]
  },
  {
   "cell_type": "markdown",
   "metadata": {},
   "source": [
    "# Final GA Function"
   ]
  },
  {
   "cell_type": "markdown",
   "metadata": {},
   "source": [
    "The final function now maps through the entire process of getting the next generation a set number of times. The get optimal order function takes in a dataframe of locations (lattitude and longitude), an initial population size, and the number of generations to run through, returning the top 3 orders in the end. "
   ]
  },
  {
   "cell_type": "code",
   "execution_count": 10,
   "metadata": {},
   "outputs": [],
   "source": [
    "#this is a supplmentary function which will help with our threshold\n",
    "def condense (input_df):\n",
    "    return(input_df.groupby(list(set(input_df.columns) - set(['rank', 'chance']))).sum().reset_index())"
   ]
  },
  {
   "cell_type": "code",
   "execution_count": 11,
   "metadata": {},
   "outputs": [],
   "source": [
    "def get_optimal_order(input_df, date, init_pop_size, gens):\n",
    "    #timer\n",
    "    start_time = datetime.now()\n",
    "    \n",
    "    #getting initial population\n",
    "    init_pop =  get_init_pop(len(input_df), init_pop_size)\n",
    "    \n",
    "    for i in range(gens - 1):\n",
    "        #ranking the population\n",
    "        ranked = rank(init_pop, input_df, date)\n",
    "        \n",
    "        best = ranked.sort_values(by=['rank'], ascending=False).iloc[0] \n",
    "    \n",
    "        #creating next generation\n",
    "        next_gen = get_next_gen(ranked)\n",
    "        init_pop = next_gen\n",
    "    \n",
    "    final_gen = condense(rank(next_gen, input_df, date))\n",
    "    \n",
    "    end_time = datetime.now()\n",
    "    print(end_time - start_time)\n",
    "    \n",
    "    return(final_gen.iloc[:3])"
   ]
  },
  {
   "cell_type": "markdown",
   "metadata": {},
   "source": [
    "# Example\n",
    "So now I load our testing data for the example. I randomly choose 5 rows and take the pickup location as example set. We also need an example date to start as well."
   ]
  },
  {
   "cell_type": "code",
   "execution_count": 14,
   "metadata": {},
   "outputs": [],
   "source": [
    "taxi_test = pd.read_csv('data/test.csv')"
   ]
  },
  {
   "cell_type": "code",
   "execution_count": 15,
   "metadata": {},
   "outputs": [
    {
     "name": "stdout",
     "output_type": "stream",
     "text": [
      "[23:22:07] WARNING: C:/Users/Administrator/workspace/xgboost-win64_release_1.0.0/src/objective/regression_obj.cu:167: reg:linear is now deprecated in favor of reg:squarederror.\n"
     ]
    }
   ],
   "source": [
    "#load model that we trained\n",
    "model = pickle.load(open('xgb_model.sav', 'rb'))"
   ]
  },
  {
   "cell_type": "code",
   "execution_count": 16,
   "metadata": {},
   "outputs": [],
   "source": [
    "#Sample locations\n",
    "np.random.seed(seed=4321)\n",
    "test_set_idx = np.random.choice(len(taxi_test),5)\n",
    "test_set = taxi_test.iloc[test_set_idx].reset_index()[['pickup_longitude', 'pickup_latitude']]\n",
    "\n",
    "#Sample date\n",
    "test_date = datetime(2020, 5, 17, 17)"
   ]
  },
  {
   "cell_type": "code",
   "execution_count": 17,
   "metadata": {
    "scrolled": true
   },
   "outputs": [
    {
     "data": {
      "text/html": [
       "<div>\n",
       "<style scoped>\n",
       "    .dataframe tbody tr th:only-of-type {\n",
       "        vertical-align: middle;\n",
       "    }\n",
       "\n",
       "    .dataframe tbody tr th {\n",
       "        vertical-align: top;\n",
       "    }\n",
       "\n",
       "    .dataframe thead th {\n",
       "        text-align: right;\n",
       "    }\n",
       "</style>\n",
       "<table border=\"1\" class=\"dataframe\">\n",
       "  <thead>\n",
       "    <tr style=\"text-align: right;\">\n",
       "      <th></th>\n",
       "      <th>pickup_longitude</th>\n",
       "      <th>pickup_latitude</th>\n",
       "    </tr>\n",
       "  </thead>\n",
       "  <tbody>\n",
       "    <tr>\n",
       "      <td>0</td>\n",
       "      <td>-73.993599</td>\n",
       "      <td>40.747028</td>\n",
       "    </tr>\n",
       "    <tr>\n",
       "      <td>1</td>\n",
       "      <td>-73.863625</td>\n",
       "      <td>40.769852</td>\n",
       "    </tr>\n",
       "    <tr>\n",
       "      <td>2</td>\n",
       "      <td>-73.990532</td>\n",
       "      <td>40.751259</td>\n",
       "    </tr>\n",
       "    <tr>\n",
       "      <td>3</td>\n",
       "      <td>-73.991287</td>\n",
       "      <td>40.750370</td>\n",
       "    </tr>\n",
       "    <tr>\n",
       "      <td>4</td>\n",
       "      <td>-74.014709</td>\n",
       "      <td>40.714329</td>\n",
       "    </tr>\n",
       "  </tbody>\n",
       "</table>\n",
       "</div>"
      ],
      "text/plain": [
       "   pickup_longitude  pickup_latitude\n",
       "0        -73.993599        40.747028\n",
       "1        -73.863625        40.769852\n",
       "2        -73.990532        40.751259\n",
       "3        -73.991287        40.750370\n",
       "4        -74.014709        40.714329"
      ]
     },
     "execution_count": 17,
     "metadata": {},
     "output_type": "execute_result"
    }
   ],
   "source": [
    "test_set"
   ]
  },
  {
   "cell_type": "markdown",
   "metadata": {},
   "source": [
    "The first step is to create a validation. I create a set of all the permutations of the order to visit the locations and return the order with the shortest time. This is what we want to get from our genetic algorithm."
   ]
  },
  {
   "cell_type": "code",
   "execution_count": 81,
   "metadata": {
    "scrolled": true
   },
   "outputs": [
    {
     "data": {
      "text/plain": [
       "0                4.000000\n",
       "1                2.000000\n",
       "2                3.000000\n",
       "3                0.000000\n",
       "4                1.000000\n",
       "total_time    3468.165573\n",
       "rank           120.000000\n",
       "chance           0.016529\n",
       "Name: 112, dtype: float64"
      ]
     },
     "execution_count": 81,
     "metadata": {},
     "output_type": "execute_result"
    }
   ],
   "source": [
    "perm = list(permutations(list(test_set.index))) \n",
    "test_full = rank(perm, test_set, test_date)\n",
    "test_full_ranked = test_full.sort_values(by=['rank'], ascending=False)\n",
    "test_full_ranked.iloc[0]"
   ]
  },
  {
   "cell_type": "code",
   "execution_count": 88,
   "metadata": {
    "scrolled": false
   },
   "outputs": [
    {
     "name": "stdout",
     "output_type": "stream",
     "text": [
      "0:02:23.134802\n"
     ]
    },
    {
     "data": {
      "text/html": [
       "<div>\n",
       "<style scoped>\n",
       "    .dataframe tbody tr th:only-of-type {\n",
       "        vertical-align: middle;\n",
       "    }\n",
       "\n",
       "    .dataframe tbody tr th {\n",
       "        vertical-align: top;\n",
       "    }\n",
       "\n",
       "    .dataframe thead th {\n",
       "        text-align: right;\n",
       "    }\n",
       "</style>\n",
       "<table border=\"1\" class=\"dataframe\">\n",
       "  <thead>\n",
       "    <tr style=\"text-align: right;\">\n",
       "      <th></th>\n",
       "      <th>0</th>\n",
       "      <th>1</th>\n",
       "      <th>2</th>\n",
       "      <th>3</th>\n",
       "      <th>4</th>\n",
       "      <th>total_time</th>\n",
       "      <th>rank</th>\n",
       "      <th>chance</th>\n",
       "    </tr>\n",
       "  </thead>\n",
       "  <tbody>\n",
       "    <tr>\n",
       "      <td>0</td>\n",
       "      <td>4</td>\n",
       "      <td>2</td>\n",
       "      <td>3</td>\n",
       "      <td>0</td>\n",
       "      <td>1</td>\n",
       "      <td>3468.165573</td>\n",
       "      <td>5050.0</td>\n",
       "      <td>1.0</td>\n",
       "    </tr>\n",
       "  </tbody>\n",
       "</table>\n",
       "</div>"
      ],
      "text/plain": [
       "   0  1  2  3  4   total_time    rank  chance\n",
       "0  4  2  3  0  1  3468.165573  5050.0     1.0"
      ]
     },
     "execution_count": 88,
     "metadata": {},
     "output_type": "execute_result"
    }
   ],
   "source": [
    "get_optimal_order(test_set, test_date, 100, 20)"
   ]
  },
  {
   "cell_type": "markdown",
   "metadata": {},
   "source": [
    "Running it looks like we get the correct results and shows that the Genetic Algorithm works. The chance column means that by the end of 20 generations the entire population was 42301 ordering meaning it was the highest fitness and as the generations passed it was chosen as a parent more often so it's characteristics (the order in this context) were passed on to the next generation slowly weeding out less efficient routes."
   ]
  },
  {
   "cell_type": "code",
   "execution_count": 20,
   "metadata": {},
   "outputs": [
    {
     "name": "stdout",
     "output_type": "stream",
     "text": [
      "0:06:38.071338\n"
     ]
    }
   ],
   "source": [
    "output = get_optimal_order(test_set, test_date, 100, 20)"
   ]
  },
  {
   "cell_type": "code",
   "execution_count": 41,
   "metadata": {},
   "outputs": [
    {
     "data": {
      "text/plain": [
       "[4, 2, 3, 0, 1]"
      ]
     },
     "execution_count": 41,
     "metadata": {},
     "output_type": "execute_result"
    }
   ],
   "source": [
    "output\n",
    "list(output.iloc[:,0:len(output.columns) - 3].loc[0])"
   ]
  },
  {
   "cell_type": "code",
   "execution_count": 31,
   "metadata": {},
   "outputs": [
    {
     "data": {
      "text/html": [
       "<div>\n",
       "<style scoped>\n",
       "    .dataframe tbody tr th:only-of-type {\n",
       "        vertical-align: middle;\n",
       "    }\n",
       "\n",
       "    .dataframe tbody tr th {\n",
       "        vertical-align: top;\n",
       "    }\n",
       "\n",
       "    .dataframe thead th {\n",
       "        text-align: right;\n",
       "    }\n",
       "</style>\n",
       "<table border=\"1\" class=\"dataframe\">\n",
       "  <thead>\n",
       "    <tr style=\"text-align: right;\">\n",
       "      <th></th>\n",
       "      <th>pickup_longitude</th>\n",
       "      <th>pickup_latitude</th>\n",
       "    </tr>\n",
       "  </thead>\n",
       "  <tbody>\n",
       "    <tr>\n",
       "      <td>0</td>\n",
       "      <td>-73.993599</td>\n",
       "      <td>40.747028</td>\n",
       "    </tr>\n",
       "    <tr>\n",
       "      <td>1</td>\n",
       "      <td>-73.863625</td>\n",
       "      <td>40.769852</td>\n",
       "    </tr>\n",
       "    <tr>\n",
       "      <td>2</td>\n",
       "      <td>-73.990532</td>\n",
       "      <td>40.751259</td>\n",
       "    </tr>\n",
       "    <tr>\n",
       "      <td>3</td>\n",
       "      <td>-73.991287</td>\n",
       "      <td>40.750370</td>\n",
       "    </tr>\n",
       "    <tr>\n",
       "      <td>4</td>\n",
       "      <td>-74.014709</td>\n",
       "      <td>40.714329</td>\n",
       "    </tr>\n",
       "  </tbody>\n",
       "</table>\n",
       "</div>"
      ],
      "text/plain": [
       "   pickup_longitude  pickup_latitude\n",
       "0        -73.993599        40.747028\n",
       "1        -73.863625        40.769852\n",
       "2        -73.990532        40.751259\n",
       "3        -73.991287        40.750370\n",
       "4        -74.014709        40.714329"
      ]
     },
     "execution_count": 31,
     "metadata": {},
     "output_type": "execute_result"
    }
   ],
   "source": [
    "test_set"
   ]
  },
  {
   "cell_type": "code",
   "execution_count": 42,
   "metadata": {
    "scrolled": true
   },
   "outputs": [
    {
     "data": {
      "text/html": [
       "<div>\n",
       "<style scoped>\n",
       "    .dataframe tbody tr th:only-of-type {\n",
       "        vertical-align: middle;\n",
       "    }\n",
       "\n",
       "    .dataframe tbody tr th {\n",
       "        vertical-align: top;\n",
       "    }\n",
       "\n",
       "    .dataframe thead th {\n",
       "        text-align: right;\n",
       "    }\n",
       "</style>\n",
       "<table border=\"1\" class=\"dataframe\">\n",
       "  <thead>\n",
       "    <tr style=\"text-align: right;\">\n",
       "      <th></th>\n",
       "      <th>pickup_longitude</th>\n",
       "      <th>pickup_latitude</th>\n",
       "    </tr>\n",
       "  </thead>\n",
       "  <tbody>\n",
       "    <tr>\n",
       "      <td>4</td>\n",
       "      <td>-74.014709</td>\n",
       "      <td>40.714329</td>\n",
       "    </tr>\n",
       "    <tr>\n",
       "      <td>2</td>\n",
       "      <td>-73.990532</td>\n",
       "      <td>40.751259</td>\n",
       "    </tr>\n",
       "    <tr>\n",
       "      <td>3</td>\n",
       "      <td>-73.991287</td>\n",
       "      <td>40.750370</td>\n",
       "    </tr>\n",
       "    <tr>\n",
       "      <td>0</td>\n",
       "      <td>-73.993599</td>\n",
       "      <td>40.747028</td>\n",
       "    </tr>\n",
       "    <tr>\n",
       "      <td>1</td>\n",
       "      <td>-73.863625</td>\n",
       "      <td>40.769852</td>\n",
       "    </tr>\n",
       "  </tbody>\n",
       "</table>\n",
       "</div>"
      ],
      "text/plain": [
       "   pickup_longitude  pickup_latitude\n",
       "4        -74.014709        40.714329\n",
       "2        -73.990532        40.751259\n",
       "3        -73.991287        40.750370\n",
       "0        -73.993599        40.747028\n",
       "1        -73.863625        40.769852"
      ]
     },
     "execution_count": 42,
     "metadata": {},
     "output_type": "execute_result"
    }
   ],
   "source": [
    "plot_dat = test_set.reindex(list(output.iloc[:,0:len(output.columns) - 3].loc[0]))\n",
    "plot_dat"
   ]
  },
  {
   "cell_type": "code",
   "execution_count": 45,
   "metadata": {},
   "outputs": [
    {
     "data": {
      "image/png": "[encoded data removed]",
      "text/plain": [
       "<Figure size 720x720 with 1 Axes>"
      ]
     },
     "metadata": {
      "needs_background": "light"
     },
     "output_type": "display_data"
    }
   ],
   "source": [
    "street_map = gpd.read_file('shp/geo_export_0a23a24b-8a75-4a43-b238-df5c9996dcf4.shp')\n",
    "fig, ax = plt.subplots(figsize=(10,10))\n",
    "\n",
    "#Plotting city streets\n",
    "street_map.plot(ax = ax, alpha = 0.3, color = 'grey', linewidth=1)\n",
    "\n",
    "#setting cutom markers for each point\n",
    "x = plot_dat['pickup_longitude']\n",
    "y = plot_dat['pickup_latitude']\n",
    "markers = [\"$1$\", \"$2$\", \"$3$\", \"$4$\", \"$5$\"]\n",
    "\n",
    "#plot results in optimized order\n",
    "plt.plot( x, y, linestyle='-', color = 'red')\n",
    "\n",
    "for  xp, yp, m in zip(x, y, markers):\n",
    "    plt.scatter([xp], [yp], marker=m, s = 100, color = 'red')\n",
    "    plt.scatter([xp], [yp], marker='o', s = 700, facecolors='none', edgecolors='r')\n",
    "\n",
    "plt.show()"
   ]
  }
 ],
 "metadata": {
  "kernelspec": {
   "display_name": "Python 3",
   "language": "python",
   "name": "python3"
  },
  "language_info": {
   "codemirror_mode": {
    "name": "ipython",
    "version": 3
   },
   "file_extension": ".py",
   "mimetype": "text/x-python",
   "name": "python",
   "nbconvert_exporter": "python",
   "pygments_lexer": "ipython3",
   "version": "3.7.4"
  }
 },
 "nbformat": 4,
 "nbformat_minor": 2
}
