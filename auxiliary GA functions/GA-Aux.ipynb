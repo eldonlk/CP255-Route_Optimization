{
 "cells": [
  {
   "cell_type": "code",
   "execution_count": 3,
   "metadata": {},
   "outputs": [],
   "source": [
    "import pandas as pd\n",
    "import numpy as np\n",
    "from datetime import datetime\n",
    "from datetime import timedelta\n",
    "import random\n",
    "import math\n",
    "import xgboost as xgb\n",
    "\n",
    "from copy import copy\n",
    "import pickle"
   ]
  },
  {
   "cell_type": "code",
   "execution_count": 4,
   "metadata": {},
   "outputs": [],
   "source": [
    "#load test data\n",
    "taxi_test = pd.read_csv('data/test.csv')"
   ]
  },
  {
   "cell_type": "code",
   "execution_count": 5,
   "metadata": {},
   "outputs": [
    {
     "name": "stdout",
     "output_type": "stream",
     "text": [
      "[19:30:20] WARNING: C:/Users/Administrator/workspace/xgboost-win64_release_1.0.0/src/objective/regression_obj.cu:167: reg:linear is now deprecated in favor of reg:squarederror.\n"
     ]
    }
   ],
   "source": [
    "#load xgb model\n",
    "model = pickle.load(open('xgb_model.sav', 'rb'))"
   ]
  },
  {
   "cell_type": "markdown",
   "metadata": {},
   "source": [
    "## Testing Data / Data Preprocessing"
   ]
  },
  {
   "cell_type": "code",
   "execution_count": 39,
   "metadata": {
    "scrolled": true
   },
   "outputs": [],
   "source": [
    "test_set = taxi_test.head(5)"
   ]
  },
  {
   "cell_type": "code",
   "execution_count": 40,
   "metadata": {
    "scrolled": true
   },
   "outputs": [
    {
     "data": {
      "text/html": [
       "<div>\n",
       "<style scoped>\n",
       "    .dataframe tbody tr th:only-of-type {\n",
       "        vertical-align: middle;\n",
       "    }\n",
       "\n",
       "    .dataframe tbody tr th {\n",
       "        vertical-align: top;\n",
       "    }\n",
       "\n",
       "    .dataframe thead th {\n",
       "        text-align: right;\n",
       "    }\n",
       "</style>\n",
       "<table border=\"1\" class=\"dataframe\">\n",
       "  <thead>\n",
       "    <tr style=\"text-align: right;\">\n",
       "      <th></th>\n",
       "      <th>id</th>\n",
       "      <th>vendor_id</th>\n",
       "      <th>pickup_datetime</th>\n",
       "      <th>passenger_count</th>\n",
       "      <th>pickup_longitude</th>\n",
       "      <th>pickup_latitude</th>\n",
       "      <th>dropoff_longitude</th>\n",
       "      <th>dropoff_latitude</th>\n",
       "      <th>store_and_fwd_flag</th>\n",
       "    </tr>\n",
       "  </thead>\n",
       "  <tbody>\n",
       "    <tr>\n",
       "      <td>0</td>\n",
       "      <td>id3004672</td>\n",
       "      <td>1</td>\n",
       "      <td>2016-06-30 23:59:58</td>\n",
       "      <td>1</td>\n",
       "      <td>-73.988129</td>\n",
       "      <td>40.732029</td>\n",
       "      <td>-73.990173</td>\n",
       "      <td>40.756680</td>\n",
       "      <td>N</td>\n",
       "    </tr>\n",
       "    <tr>\n",
       "      <td>1</td>\n",
       "      <td>id3505355</td>\n",
       "      <td>1</td>\n",
       "      <td>2016-06-30 23:59:53</td>\n",
       "      <td>1</td>\n",
       "      <td>-73.964203</td>\n",
       "      <td>40.679993</td>\n",
       "      <td>-73.959808</td>\n",
       "      <td>40.655403</td>\n",
       "      <td>N</td>\n",
       "    </tr>\n",
       "    <tr>\n",
       "      <td>2</td>\n",
       "      <td>id1217141</td>\n",
       "      <td>1</td>\n",
       "      <td>2016-06-30 23:59:47</td>\n",
       "      <td>1</td>\n",
       "      <td>-73.997437</td>\n",
       "      <td>40.737583</td>\n",
       "      <td>-73.986160</td>\n",
       "      <td>40.729523</td>\n",
       "      <td>N</td>\n",
       "    </tr>\n",
       "    <tr>\n",
       "      <td>3</td>\n",
       "      <td>id2150126</td>\n",
       "      <td>2</td>\n",
       "      <td>2016-06-30 23:59:41</td>\n",
       "      <td>1</td>\n",
       "      <td>-73.956070</td>\n",
       "      <td>40.771900</td>\n",
       "      <td>-73.986427</td>\n",
       "      <td>40.730469</td>\n",
       "      <td>N</td>\n",
       "    </tr>\n",
       "    <tr>\n",
       "      <td>4</td>\n",
       "      <td>id1598245</td>\n",
       "      <td>1</td>\n",
       "      <td>2016-06-30 23:59:33</td>\n",
       "      <td>1</td>\n",
       "      <td>-73.970215</td>\n",
       "      <td>40.761475</td>\n",
       "      <td>-73.961510</td>\n",
       "      <td>40.755890</td>\n",
       "      <td>N</td>\n",
       "    </tr>\n",
       "  </tbody>\n",
       "</table>\n",
       "</div>"
      ],
      "text/plain": [
       "          id  vendor_id      pickup_datetime  passenger_count  \\\n",
       "0  id3004672          1  2016-06-30 23:59:58                1   \n",
       "1  id3505355          1  2016-06-30 23:59:53                1   \n",
       "2  id1217141          1  2016-06-30 23:59:47                1   \n",
       "3  id2150126          2  2016-06-30 23:59:41                1   \n",
       "4  id1598245          1  2016-06-30 23:59:33                1   \n",
       "\n",
       "   pickup_longitude  pickup_latitude  dropoff_longitude  dropoff_latitude  \\\n",
       "0        -73.988129        40.732029         -73.990173         40.756680   \n",
       "1        -73.964203        40.679993         -73.959808         40.655403   \n",
       "2        -73.997437        40.737583         -73.986160         40.729523   \n",
       "3        -73.956070        40.771900         -73.986427         40.730469   \n",
       "4        -73.970215        40.761475         -73.961510         40.755890   \n",
       "\n",
       "  store_and_fwd_flag  \n",
       "0                  N  \n",
       "1                  N  \n",
       "2                  N  \n",
       "3                  N  \n",
       "4                  N  "
      ]
     },
     "execution_count": 40,
     "metadata": {},
     "output_type": "execute_result"
    }
   ],
   "source": [
    "test_set"
   ]
  },
  {
   "cell_type": "code",
   "execution_count": 11,
   "metadata": {},
   "outputs": [],
   "source": [
    "def clean_df(input_df):\n",
    "    \n",
    "    df = input_df.copy()\n",
    "    \n",
    "    col_list = ['pickup_longitude', \n",
    "        'pickup_latitude', \n",
    "        'dropoff_longitude', \n",
    "        'dropoff_latitude', \n",
    "        'trip_duration',\n",
    "        'pickup_minute',\n",
    "        'pickup_hour',\n",
    "        'pickup_month',\n",
    "        'pickup_day',\n",
    "        'pickup_weekday']\n",
    "    \n",
    "    #changing datetime column to datetime class\n",
    "    df['pickup_datetime_hold'] = pd.to_datetime(df['pickup_datetime'])\n",
    "    \n",
    "    #adding minute column\n",
    "    df['pickup_minute'] = df.apply(lambda x: x.pickup_datetime_hold.minute, axis = 1) \n",
    "\n",
    "    #adding hour column\n",
    "    df['pickup_hour'] = df.apply(lambda x: x.pickup_datetime_hold.hour, axis = 1) \n",
    "\n",
    "    #adding month column\n",
    "    df['pickup_month'] = df.apply(lambda x: x.pickup_datetime_hold.month, axis = 1) \n",
    "\n",
    "    #adding day of month column\n",
    "    df['pickup_day'] = df.apply(lambda x: x.pickup_datetime_hold.day, axis = 1) \n",
    "\n",
    "    #adding day of week column\n",
    "    df['pickup_weekday'] = df.apply(lambda x: datetime.weekday(x.pickup_datetime_hold), axis = 1) \n",
    "    \n",
    "    return(df[df.columns.intersection(col_list)])"
   ]
  },
  {
   "cell_type": "code",
   "execution_count": 41,
   "metadata": {},
   "outputs": [],
   "source": [
    "#sample dataset\n",
    "test_df = clean_df(test_set)[['pickup_longitude', 'pickup_latitude']]\n",
    "\n",
    "#Sample date\n",
    "test_date = datetime(2020, 5, 17, 17)"
   ]
  },
  {
   "cell_type": "code",
   "execution_count": 42,
   "metadata": {
    "scrolled": false
   },
   "outputs": [
    {
     "data": {
      "text/html": [
       "<div>\n",
       "<style scoped>\n",
       "    .dataframe tbody tr th:only-of-type {\n",
       "        vertical-align: middle;\n",
       "    }\n",
       "\n",
       "    .dataframe tbody tr th {\n",
       "        vertical-align: top;\n",
       "    }\n",
       "\n",
       "    .dataframe thead th {\n",
       "        text-align: right;\n",
       "    }\n",
       "</style>\n",
       "<table border=\"1\" class=\"dataframe\">\n",
       "  <thead>\n",
       "    <tr style=\"text-align: right;\">\n",
       "      <th></th>\n",
       "      <th>pickup_longitude</th>\n",
       "      <th>pickup_latitude</th>\n",
       "    </tr>\n",
       "  </thead>\n",
       "  <tbody>\n",
       "    <tr>\n",
       "      <td>0</td>\n",
       "      <td>-73.988129</td>\n",
       "      <td>40.732029</td>\n",
       "    </tr>\n",
       "    <tr>\n",
       "      <td>1</td>\n",
       "      <td>-73.964203</td>\n",
       "      <td>40.679993</td>\n",
       "    </tr>\n",
       "    <tr>\n",
       "      <td>2</td>\n",
       "      <td>-73.997437</td>\n",
       "      <td>40.737583</td>\n",
       "    </tr>\n",
       "    <tr>\n",
       "      <td>3</td>\n",
       "      <td>-73.956070</td>\n",
       "      <td>40.771900</td>\n",
       "    </tr>\n",
       "    <tr>\n",
       "      <td>4</td>\n",
       "      <td>-73.970215</td>\n",
       "      <td>40.761475</td>\n",
       "    </tr>\n",
       "  </tbody>\n",
       "</table>\n",
       "</div>"
      ],
      "text/plain": [
       "   pickup_longitude  pickup_latitude\n",
       "0        -73.988129        40.732029\n",
       "1        -73.964203        40.679993\n",
       "2        -73.997437        40.737583\n",
       "3        -73.956070        40.771900\n",
       "4        -73.970215        40.761475"
      ]
     },
     "execution_count": 42,
     "metadata": {},
     "output_type": "execute_result"
    }
   ],
   "source": [
    "test_df"
   ]
  },
  {
   "cell_type": "markdown",
   "metadata": {},
   "source": [
    "## Auxiliary Functions"
   ]
  },
  {
   "cell_type": "code",
   "execution_count": 26,
   "metadata": {},
   "outputs": [],
   "source": [
    "#converting seconds into hour, minutes, seconds, microseconds\n",
    "def convert(start_time, add): \n",
    "    add = add % (24 * 3600) \n",
    "    hour = add // 3600\n",
    "    add %= 3600\n",
    "    minutes = add // 60\n",
    "    add %= 60\n",
    "      \n",
    "    return(start_time + timedelta(seconds=add, minutes=minutes, hours=hour)) "
   ]
  },
  {
   "cell_type": "code",
   "execution_count": 27,
   "metadata": {},
   "outputs": [],
   "source": [
    "#setup function to only keep columns we want\n",
    "def setup(x):\n",
    "    hold = pd.concat([x, x.shift(-1)], axis = 1).dropna()\n",
    "    hold.columns = ['pickup_longitude', 'pickup_latitude', 'dropoff_longitude', 'dropoff_latitude'] \n",
    "    return(hold)"
   ]
  },
  {
   "cell_type": "code",
   "execution_count": 28,
   "metadata": {},
   "outputs": [],
   "source": [
    "#prepare dataframe to be inputted into model\n",
    "def set_model_input(x, ind, time):\n",
    "    hold = x.iloc[ind].to_frame().T\n",
    "    hold['pickup_datetime'] = time\n",
    "    return(clean_df(hold))"
   ]
  },
  {
   "cell_type": "code",
   "execution_count": 29,
   "metadata": {},
   "outputs": [],
   "source": [
    "#return total time of a set of trips\n",
    "def get_total_time(x, start_time):\n",
    "    \n",
    "    #setting up intial input df, time, and holding array\n",
    "    temp = setup(x)\n",
    "    start_time_hold = start_time\n",
    "    time_total = [0] * len(temp)\n",
    "    \n",
    "    for i in range(len(temp)):\n",
    "        hold = set_model_input(temp, i, start_time_hold)\n",
    "        trip_dur = (np.exp(model.predict(xgb.DMatrix(hold))) - 1)[0]\n",
    "        time_total[i] = trip_dur\n",
    "        start_time_hold = convert(start_time_hold, trip_dur)\n",
    "        \n",
    "    return(sum(time_total))"
   ]
  },
  {
   "cell_type": "code",
   "execution_count": 43,
   "metadata": {
    "scrolled": false
   },
   "outputs": [
    {
     "data": {
      "text/plain": [
       "5373.680145263672"
      ]
     },
     "execution_count": 43,
     "metadata": {},
     "output_type": "execute_result"
    }
   ],
   "source": [
    "get_total_time(test_df, test_date)"
   ]
  },
  {
   "cell_type": "markdown",
   "metadata": {},
   "source": [
    "# GA functions"
   ]
  },
  {
   "cell_type": "code",
   "execution_count": 32,
   "metadata": {},
   "outputs": [],
   "source": [
    "#get intial population for GA\n",
    "def get_init_pop(x, num):\n",
    "    \n",
    "    hold = []\n",
    "    pop = list(range(x))\n",
    "    \n",
    "    for i in range(num):\n",
    "        hold.append((random.sample(pop,x)))\n",
    "        \n",
    "    return(hold)"
   ]
  },
  {
   "cell_type": "code",
   "execution_count": 44,
   "metadata": {
    "scrolled": true
   },
   "outputs": [],
   "source": [
    "init_pop =  get_init_pop(len(test_df),20)"
   ]
  },
  {
   "cell_type": "code",
   "execution_count": 45,
   "metadata": {
    "scrolled": false
   },
   "outputs": [
    {
     "data": {
      "text/plain": [
       "[[2, 1, 4, 3, 0],\n",
       " [4, 3, 1, 2, 0],\n",
       " [4, 2, 1, 3, 0],\n",
       " [4, 0, 3, 2, 1],\n",
       " [1, 4, 3, 2, 0],\n",
       " [1, 2, 0, 4, 3],\n",
       " [4, 3, 0, 2, 1],\n",
       " [1, 2, 3, 4, 0],\n",
       " [1, 0, 4, 3, 2],\n",
       " [4, 3, 1, 2, 0],\n",
       " [4, 1, 3, 0, 2],\n",
       " [0, 2, 4, 3, 1],\n",
       " [1, 4, 0, 3, 2],\n",
       " [4, 3, 1, 2, 0],\n",
       " [4, 0, 3, 2, 1],\n",
       " [0, 4, 2, 3, 1],\n",
       " [1, 2, 0, 4, 3],\n",
       " [3, 0, 1, 2, 4],\n",
       " [2, 1, 0, 4, 3],\n",
       " [0, 4, 3, 1, 2]]"
      ]
     },
     "execution_count": 45,
     "metadata": {},
     "output_type": "execute_result"
    }
   ],
   "source": [
    "init_pop"
   ]
  },
  {
   "cell_type": "code",
   "execution_count": 47,
   "metadata": {},
   "outputs": [],
   "source": [
    "#this is a supplmentary function which will help with our threshold\n",
    "def condense (input_df):\n",
    "    return(input_df.groupby(list(set(input_df.columns) - set(['rank', 'chance']))).sum().reset_index())"
   ]
  },
  {
   "cell_type": "code",
   "execution_count": 50,
   "metadata": {},
   "outputs": [],
   "source": [
    "#TEST function for possible future otpimization\n",
    "def rank_test(input_pop, orig_pts, datetime):\n",
    "    \n",
    "    hold_df = pd.DataFrame(input_pop)\n",
    "    condensed = hold_df.drop_duplicates()\n",
    "    \n",
    "    total_time_hold = [0] * len(condensed)\n",
    "    \n",
    "    for i in range(len(condensed)):\n",
    "        total_time_hold[i] = get_total_time(orig_pts.reindex(input_pop[i]), datetime)\n",
    "    \n",
    "    #add total time column / fitness \n",
    "    condensed['total_time'] = total_time_hold\n",
    "    \n",
    "    joined_df = pd.merge(hold_df, condensed,how='left', on=list(hold_df.columns))\n",
    "\n",
    "    #add rank column which gives the highest rank to the combination with the lowest total trip duration\n",
    "    joined_df['rank'] = len(joined_df) - joined_df['total_time'].rank() + 1\n",
    "    \n",
    "    #add chance column which uses rank to calculate probability of being chosen as a parent\n",
    "    ##higher fitness means higher chance of breeding\n",
    "    joined_df['chance'] = joined_df['rank']*2/(len(joined_df)*(len(joined_df)+1))\n",
    "    \n",
    "    return(joined_df)   "
   ]
  },
  {
   "cell_type": "code",
   "execution_count": 51,
   "metadata": {},
   "outputs": [],
   "source": [
    "#prepare/rank intial population\n",
    "def rank(input_pop, orig_pts, datetime):\n",
    "    \n",
    "    hold_df = pd.DataFrame(input_pop)\n",
    "    \n",
    "    total_time_hold = [0] * len(input_pop)\n",
    "    \n",
    "    for i in range(len(input_pop)):\n",
    "        total_time_hold[i] = get_total_time(orig_pts.reindex(input_pop[i]), datetime)\n",
    "    \n",
    "    #add total time column / fitness \n",
    "    hold_df['total_time'] = total_time_hold\n",
    "    \n",
    "    #add rank column which gives the highest rank to the combination with the lowest total trip duration\n",
    "    hold_df['rank'] = len(hold_df) - hold_df['total_time'].rank() + 1\n",
    "    \n",
    "    #add chance column which uses rank to calculate probability of being chosen as a parent\n",
    "    ##higher fitness means higher chance of breeding\n",
    "    hold_df['chance'] = hold_df['rank']*2/(len(hold_df)*(len(hold_df)+1))\n",
    "    \n",
    "    return(hold_df)   "
   ]
  },
  {
   "cell_type": "code",
   "execution_count": 52,
   "metadata": {},
   "outputs": [
    {
     "data": {
      "text/html": [
       "<div>\n",
       "<style scoped>\n",
       "    .dataframe tbody tr th:only-of-type {\n",
       "        vertical-align: middle;\n",
       "    }\n",
       "\n",
       "    .dataframe tbody tr th {\n",
       "        vertical-align: top;\n",
       "    }\n",
       "\n",
       "    .dataframe thead th {\n",
       "        text-align: right;\n",
       "    }\n",
       "</style>\n",
       "<table border=\"1\" class=\"dataframe\">\n",
       "  <thead>\n",
       "    <tr style=\"text-align: right;\">\n",
       "      <th></th>\n",
       "      <th>0</th>\n",
       "      <th>1</th>\n",
       "      <th>2</th>\n",
       "      <th>3</th>\n",
       "      <th>4</th>\n",
       "      <th>total_time</th>\n",
       "      <th>rank</th>\n",
       "      <th>chance</th>\n",
       "    </tr>\n",
       "  </thead>\n",
       "  <tbody>\n",
       "    <tr>\n",
       "      <td>0</td>\n",
       "      <td>2</td>\n",
       "      <td>1</td>\n",
       "      <td>4</td>\n",
       "      <td>3</td>\n",
       "      <td>0</td>\n",
       "      <td>5051.935791</td>\n",
       "      <td>5.0</td>\n",
       "      <td>0.023810</td>\n",
       "    </tr>\n",
       "    <tr>\n",
       "      <td>1</td>\n",
       "      <td>4</td>\n",
       "      <td>3</td>\n",
       "      <td>1</td>\n",
       "      <td>2</td>\n",
       "      <td>0</td>\n",
       "      <td>4981.280121</td>\n",
       "      <td>9.0</td>\n",
       "      <td>0.042857</td>\n",
       "    </tr>\n",
       "    <tr>\n",
       "      <td>2</td>\n",
       "      <td>4</td>\n",
       "      <td>2</td>\n",
       "      <td>1</td>\n",
       "      <td>3</td>\n",
       "      <td>0</td>\n",
       "      <td>5336.970886</td>\n",
       "      <td>3.0</td>\n",
       "      <td>0.014286</td>\n",
       "    </tr>\n",
       "    <tr>\n",
       "      <td>3</td>\n",
       "      <td>4</td>\n",
       "      <td>0</td>\n",
       "      <td>3</td>\n",
       "      <td>2</td>\n",
       "      <td>1</td>\n",
       "      <td>5050.988281</td>\n",
       "      <td>6.5</td>\n",
       "      <td>0.030952</td>\n",
       "    </tr>\n",
       "    <tr>\n",
       "      <td>4</td>\n",
       "      <td>1</td>\n",
       "      <td>4</td>\n",
       "      <td>3</td>\n",
       "      <td>2</td>\n",
       "      <td>0</td>\n",
       "      <td>3750.175018</td>\n",
       "      <td>18.0</td>\n",
       "      <td>0.085714</td>\n",
       "    </tr>\n",
       "    <tr>\n",
       "      <td>5</td>\n",
       "      <td>1</td>\n",
       "      <td>2</td>\n",
       "      <td>0</td>\n",
       "      <td>4</td>\n",
       "      <td>3</td>\n",
       "      <td>3480.735504</td>\n",
       "      <td>19.5</td>\n",
       "      <td>0.092857</td>\n",
       "    </tr>\n",
       "    <tr>\n",
       "      <td>6</td>\n",
       "      <td>4</td>\n",
       "      <td>3</td>\n",
       "      <td>0</td>\n",
       "      <td>2</td>\n",
       "      <td>1</td>\n",
       "      <td>3796.187225</td>\n",
       "      <td>16.0</td>\n",
       "      <td>0.076190</td>\n",
       "    </tr>\n",
       "    <tr>\n",
       "      <td>7</td>\n",
       "      <td>1</td>\n",
       "      <td>2</td>\n",
       "      <td>3</td>\n",
       "      <td>4</td>\n",
       "      <td>0</td>\n",
       "      <td>4565.534729</td>\n",
       "      <td>14.0</td>\n",
       "      <td>0.066667</td>\n",
       "    </tr>\n",
       "    <tr>\n",
       "      <td>8</td>\n",
       "      <td>1</td>\n",
       "      <td>0</td>\n",
       "      <td>4</td>\n",
       "      <td>3</td>\n",
       "      <td>2</td>\n",
       "      <td>4292.394775</td>\n",
       "      <td>15.0</td>\n",
       "      <td>0.071429</td>\n",
       "    </tr>\n",
       "    <tr>\n",
       "      <td>9</td>\n",
       "      <td>4</td>\n",
       "      <td>3</td>\n",
       "      <td>1</td>\n",
       "      <td>2</td>\n",
       "      <td>0</td>\n",
       "      <td>4981.280121</td>\n",
       "      <td>9.0</td>\n",
       "      <td>0.042857</td>\n",
       "    </tr>\n",
       "    <tr>\n",
       "      <td>10</td>\n",
       "      <td>4</td>\n",
       "      <td>1</td>\n",
       "      <td>3</td>\n",
       "      <td>0</td>\n",
       "      <td>2</td>\n",
       "      <td>4887.408478</td>\n",
       "      <td>12.0</td>\n",
       "      <td>0.057143</td>\n",
       "    </tr>\n",
       "    <tr>\n",
       "      <td>11</td>\n",
       "      <td>0</td>\n",
       "      <td>2</td>\n",
       "      <td>4</td>\n",
       "      <td>3</td>\n",
       "      <td>1</td>\n",
       "      <td>3764.778595</td>\n",
       "      <td>17.0</td>\n",
       "      <td>0.080952</td>\n",
       "    </tr>\n",
       "    <tr>\n",
       "      <td>12</td>\n",
       "      <td>1</td>\n",
       "      <td>4</td>\n",
       "      <td>0</td>\n",
       "      <td>3</td>\n",
       "      <td>2</td>\n",
       "      <td>4655.779785</td>\n",
       "      <td>13.0</td>\n",
       "      <td>0.061905</td>\n",
       "    </tr>\n",
       "    <tr>\n",
       "      <td>13</td>\n",
       "      <td>4</td>\n",
       "      <td>3</td>\n",
       "      <td>1</td>\n",
       "      <td>2</td>\n",
       "      <td>0</td>\n",
       "      <td>4981.280121</td>\n",
       "      <td>9.0</td>\n",
       "      <td>0.042857</td>\n",
       "    </tr>\n",
       "    <tr>\n",
       "      <td>14</td>\n",
       "      <td>4</td>\n",
       "      <td>0</td>\n",
       "      <td>3</td>\n",
       "      <td>2</td>\n",
       "      <td>1</td>\n",
       "      <td>5050.988281</td>\n",
       "      <td>6.5</td>\n",
       "      <td>0.030952</td>\n",
       "    </tr>\n",
       "    <tr>\n",
       "      <td>15</td>\n",
       "      <td>0</td>\n",
       "      <td>4</td>\n",
       "      <td>2</td>\n",
       "      <td>3</td>\n",
       "      <td>1</td>\n",
       "      <td>5268.062561</td>\n",
       "      <td>4.0</td>\n",
       "      <td>0.019048</td>\n",
       "    </tr>\n",
       "    <tr>\n",
       "      <td>16</td>\n",
       "      <td>1</td>\n",
       "      <td>2</td>\n",
       "      <td>0</td>\n",
       "      <td>4</td>\n",
       "      <td>3</td>\n",
       "      <td>3480.735504</td>\n",
       "      <td>19.5</td>\n",
       "      <td>0.092857</td>\n",
       "    </tr>\n",
       "    <tr>\n",
       "      <td>17</td>\n",
       "      <td>3</td>\n",
       "      <td>0</td>\n",
       "      <td>1</td>\n",
       "      <td>2</td>\n",
       "      <td>4</td>\n",
       "      <td>5739.556885</td>\n",
       "      <td>1.0</td>\n",
       "      <td>0.004762</td>\n",
       "    </tr>\n",
       "    <tr>\n",
       "      <td>18</td>\n",
       "      <td>2</td>\n",
       "      <td>1</td>\n",
       "      <td>0</td>\n",
       "      <td>4</td>\n",
       "      <td>3</td>\n",
       "      <td>4932.698151</td>\n",
       "      <td>11.0</td>\n",
       "      <td>0.052381</td>\n",
       "    </tr>\n",
       "    <tr>\n",
       "      <td>19</td>\n",
       "      <td>0</td>\n",
       "      <td>4</td>\n",
       "      <td>3</td>\n",
       "      <td>1</td>\n",
       "      <td>2</td>\n",
       "      <td>5360.207916</td>\n",
       "      <td>2.0</td>\n",
       "      <td>0.009524</td>\n",
       "    </tr>\n",
       "  </tbody>\n",
       "</table>\n",
       "</div>"
      ],
      "text/plain": [
       "    0  1  2  3  4   total_time  rank    chance\n",
       "0   2  1  4  3  0  5051.935791   5.0  0.023810\n",
       "1   4  3  1  2  0  4981.280121   9.0  0.042857\n",
       "2   4  2  1  3  0  5336.970886   3.0  0.014286\n",
       "3   4  0  3  2  1  5050.988281   6.5  0.030952\n",
       "4   1  4  3  2  0  3750.175018  18.0  0.085714\n",
       "5   1  2  0  4  3  3480.735504  19.5  0.092857\n",
       "6   4  3  0  2  1  3796.187225  16.0  0.076190\n",
       "7   1  2  3  4  0  4565.534729  14.0  0.066667\n",
       "8   1  0  4  3  2  4292.394775  15.0  0.071429\n",
       "9   4  3  1  2  0  4981.280121   9.0  0.042857\n",
       "10  4  1  3  0  2  4887.408478  12.0  0.057143\n",
       "11  0  2  4  3  1  3764.778595  17.0  0.080952\n",
       "12  1  4  0  3  2  4655.779785  13.0  0.061905\n",
       "13  4  3  1  2  0  4981.280121   9.0  0.042857\n",
       "14  4  0  3  2  1  5050.988281   6.5  0.030952\n",
       "15  0  4  2  3  1  5268.062561   4.0  0.019048\n",
       "16  1  2  0  4  3  3480.735504  19.5  0.092857\n",
       "17  3  0  1  2  4  5739.556885   1.0  0.004762\n",
       "18  2  1  0  4  3  4932.698151  11.0  0.052381\n",
       "19  0  4  3  1  2  5360.207916   2.0  0.009524"
      ]
     },
     "execution_count": 52,
     "metadata": {},
     "output_type": "execute_result"
    }
   ],
   "source": [
    "rank(init_pop, test_df, test_date)"
   ]
  },
  {
   "cell_type": "markdown",
   "metadata": {},
   "source": [
    "Create function to get a set of parents from the new input data frame"
   ]
  },
  {
   "cell_type": "code",
   "execution_count": 53,
   "metadata": {},
   "outputs": [],
   "source": [
    "#choose a set parents from our population based on the fitness\n",
    "##parents shouls be equal \n",
    "def get_parent(input_df):\n",
    "    pop_size = len(input_df)\n",
    "    which_parent = np.random.choice(pop_size, pop_size, p = input_df['chance'])\n",
    "    num_chrom = len(list(set(input_df.columns) - set(['total_time', 'rank', 'chance'])))\n",
    "    parent = input_df.reindex(which_parent).iloc[:,:num_chrom].to_numpy()\n",
    "    return(parent)"
   ]
  },
  {
   "cell_type": "markdown",
   "metadata": {},
   "source": [
    "We want half of chromosomes from each parent. If there are duplicates we will randomly choose with the options left."
   ]
  },
  {
   "cell_type": "code",
   "execution_count": 54,
   "metadata": {},
   "outputs": [],
   "source": [
    "#cross parent chromosomes\n",
    "def cross(parent1, parent2):\n",
    "    \n",
    "    #how many chromosomes we want to keep from each parent\n",
    "    num_parent = len(parent1)\n",
    "    num_chrom = len(parent1[0])\n",
    "    num_one = math.ceil(num_chrom/2)\n",
    "    num_zero = num_chrom - math.ceil(num_chrom/2) #safer option than using floor\n",
    "    \n",
    "    chrom_filter_source = ([1] * num_one) + ([0]*num_zero)\n",
    "    \n",
    "    #create #create a \"filter\" for our chromosomes\n",
    "    chrom_filter = []\n",
    "    for i in range(num_parent):\n",
    "        chrom_filter.append((random.sample(chrom_filter_source, num_chrom)))\n",
    "        \n",
    "    #create opposite filter for our second parent\n",
    "    chrom_filter2 = abs(np.subtract(chrom_filter, 1))\n",
    "    \n",
    "    #need to add 1 because our lowest number right now is 0 if left alone when filtered, we will have multipl 0's\n",
    "    new_parent1 = np.multiply(np.add(parent1,1), chrom_filter)  \n",
    "    new_parent2 = np.multiply(np.add(parent2,1), chrom_filter2)\n",
    "    \n",
    "    #loop through all parents and cross chromosomes\n",
    "    for i in range(num_parent):\n",
    "        #only look at couples with matching chromosomes\n",
    "        if(any(x in new_parent1[i] for x in new_parent2[i])):\n",
    "            #available chromosomes to choose from to fill gaps\n",
    "            not_set = list(set(list(range(num_chrom+1))[1:]) - set(new_parent1[i] + new_parent2[i]))\n",
    "            #fill gaps\n",
    "            for idx, j in enumerate(new_parent2[i]):\n",
    "                if (j in new_parent1[i] and j != 0):\n",
    "                    insert = random.sample(not_set, 1)[0]\n",
    "                    new_parent1[i,idx] = insert\n",
    "                    new_parent2[i,idx] = 0\n",
    "                    not_set.remove(insert) #once a chromosome is used remove it from possible choices\n",
    "    \n",
    "    #add them together as a cross\n",
    "    return(np.add(new_parent1, new_parent2))"
   ]
  },
  {
   "cell_type": "code",
   "execution_count": 55,
   "metadata": {},
   "outputs": [],
   "source": [
    "#getting the next generation\n",
    "def get_next_gen(input_df):\n",
    "    p1 = get_parent(input_df)\n",
    "    p2 = get_parent(input_df)\n",
    "    next_gen = np.subtract(cross(p1, p2),1)\n",
    "    return(next_gen)\n",
    "    "
   ]
  },
  {
   "cell_type": "code",
   "execution_count": 57,
   "metadata": {
    "scrolled": false
   },
   "outputs": [
    {
     "data": {
      "text/plain": [
       "array([[1, 4, 3, 2, 0],\n",
       "       [1, 0, 4, 3, 2],\n",
       "       [0, 2, 4, 3, 1],\n",
       "       [2, 4, 0, 3, 1],\n",
       "       [1, 4, 0, 2, 3],\n",
       "       [0, 2, 4, 3, 1],\n",
       "       [4, 2, 1, 3, 0],\n",
       "       [1, 2, 0, 3, 4],\n",
       "       [1, 0, 4, 2, 3],\n",
       "       [4, 1, 0, 2, 3],\n",
       "       [1, 2, 0, 4, 3],\n",
       "       [1, 2, 3, 4, 0],\n",
       "       [1, 4, 2, 3, 0],\n",
       "       [1, 2, 0, 4, 3],\n",
       "       [4, 0, 3, 2, 1],\n",
       "       [4, 0, 3, 2, 1],\n",
       "       [0, 2, 4, 3, 1],\n",
       "       [4, 1, 0, 2, 3],\n",
       "       [1, 2, 0, 4, 3],\n",
       "       [4, 3, 1, 2, 0]], dtype=int64)"
      ]
     },
     "execution_count": 57,
     "metadata": {},
     "output_type": "execute_result"
    }
   ],
   "source": [
    "get_next_gen(rank(init_pop, test_df, test_date))"
   ]
  },
  {
   "cell_type": "code",
   "execution_count": 58,
   "metadata": {
    "scrolled": true
   },
   "outputs": [
    {
     "data": {
      "text/html": [
       "<div>\n",
       "<style scoped>\n",
       "    .dataframe tbody tr th:only-of-type {\n",
       "        vertical-align: middle;\n",
       "    }\n",
       "\n",
       "    .dataframe tbody tr th {\n",
       "        vertical-align: top;\n",
       "    }\n",
       "\n",
       "    .dataframe thead th {\n",
       "        text-align: right;\n",
       "    }\n",
       "</style>\n",
       "<table border=\"1\" class=\"dataframe\">\n",
       "  <thead>\n",
       "    <tr style=\"text-align: right;\">\n",
       "      <th></th>\n",
       "      <th>pickup_longitude</th>\n",
       "      <th>pickup_latitude</th>\n",
       "    </tr>\n",
       "  </thead>\n",
       "  <tbody>\n",
       "    <tr>\n",
       "      <td>0</td>\n",
       "      <td>-73.988129</td>\n",
       "      <td>40.732029</td>\n",
       "    </tr>\n",
       "    <tr>\n",
       "      <td>1</td>\n",
       "      <td>-73.964203</td>\n",
       "      <td>40.679993</td>\n",
       "    </tr>\n",
       "    <tr>\n",
       "      <td>2</td>\n",
       "      <td>-73.997437</td>\n",
       "      <td>40.737583</td>\n",
       "    </tr>\n",
       "    <tr>\n",
       "      <td>3</td>\n",
       "      <td>-73.956070</td>\n",
       "      <td>40.771900</td>\n",
       "    </tr>\n",
       "    <tr>\n",
       "      <td>4</td>\n",
       "      <td>-73.970215</td>\n",
       "      <td>40.761475</td>\n",
       "    </tr>\n",
       "  </tbody>\n",
       "</table>\n",
       "</div>"
      ],
      "text/plain": [
       "   pickup_longitude  pickup_latitude\n",
       "0        -73.988129        40.732029\n",
       "1        -73.964203        40.679993\n",
       "2        -73.997437        40.737583\n",
       "3        -73.956070        40.771900\n",
       "4        -73.970215        40.761475"
      ]
     },
     "execution_count": 58,
     "metadata": {},
     "output_type": "execute_result"
    }
   ],
   "source": [
    "test_df"
   ]
  },
  {
   "cell_type": "code",
   "execution_count": 80,
   "metadata": {},
   "outputs": [
    {
     "data": {
      "text/html": [
       "<div>\n",
       "<style scoped>\n",
       "    .dataframe tbody tr th:only-of-type {\n",
       "        vertical-align: middle;\n",
       "    }\n",
       "\n",
       "    .dataframe tbody tr th {\n",
       "        vertical-align: top;\n",
       "    }\n",
       "\n",
       "    .dataframe thead th {\n",
       "        text-align: right;\n",
       "    }\n",
       "</style>\n",
       "<table border=\"1\" class=\"dataframe\">\n",
       "  <thead>\n",
       "    <tr style=\"text-align: right;\">\n",
       "      <th></th>\n",
       "      <th>pickup_longitude</th>\n",
       "      <th>pickup_latitude</th>\n",
       "    </tr>\n",
       "  </thead>\n",
       "  <tbody>\n",
       "    <tr>\n",
       "      <td>100</td>\n",
       "      <td>-73.966743</td>\n",
       "      <td>40.764004</td>\n",
       "    </tr>\n",
       "  </tbody>\n",
       "</table>\n",
       "</div>"
      ],
      "text/plain": [
       "     pickup_longitude  pickup_latitude\n",
       "100        -73.966743        40.764004"
      ]
     },
     "execution_count": 80,
     "metadata": {},
     "output_type": "execute_result"
    }
   ],
   "source": [
    "test_start = pd.DataFrame(taxi_test[['pickup_longitude', 'pickup_latitude']].loc[100]).transpose()\n",
    "test_start"
   ]
  },
  {
   "cell_type": "code",
   "execution_count": 121,
   "metadata": {},
   "outputs": [],
   "source": [
    "def get_optimal_order(start_loc, input_df, date, init_pop_size, gens):\n",
    "\n",
    "    start_time = datetime.now() #timer\n",
    "    \n",
    "    #getting initial population\n",
    "    init_pop =  get_init_pop(len(input_df), init_pop_size)\n",
    "    \n",
    "    for i in range(gens - 1):\n",
    "        #ranking the population\n",
    "        ranked = rank(start_loc, init_pop, input_df, date)\n",
    "\n",
    "        best = ranked.sort_values(by=['rank'], ascending=False).iloc[0] \n",
    "    \n",
    "        #creating next generation\n",
    "        next_gen = get_next_gen(ranked)\n",
    "        init_pop = next_gen\n",
    "    \n",
    "    final_gen = condense(rank(start_loc, next_gen, input_df, date))\n",
    "    \n",
    "    end_time = datetime.now()\n",
    "    \n",
    "    print(end_time - start_time)\n",
    "    return(final_gen)\n",
    "    \n",
    "#     return(final_gen.iloc[:3])"
   ]
  },
  {
   "cell_type": "code",
   "execution_count": 126,
   "metadata": {
    "scrolled": false
   },
   "outputs": [
    {
     "name": "stdout",
     "output_type": "stream",
     "text": [
      "0:00:03.578031\n"
     ]
    },
    {
     "data": {
      "text/html": [
       "<div>\n",
       "<style scoped>\n",
       "    .dataframe tbody tr th:only-of-type {\n",
       "        vertical-align: middle;\n",
       "    }\n",
       "\n",
       "    .dataframe tbody tr th {\n",
       "        vertical-align: top;\n",
       "    }\n",
       "\n",
       "    .dataframe thead th {\n",
       "        text-align: right;\n",
       "    }\n",
       "</style>\n",
       "<table border=\"1\" class=\"dataframe\">\n",
       "  <thead>\n",
       "    <tr style=\"text-align: right;\">\n",
       "      <th></th>\n",
       "      <th>0</th>\n",
       "      <th>1</th>\n",
       "      <th>2</th>\n",
       "      <th>3</th>\n",
       "      <th>4</th>\n",
       "      <th>total_time</th>\n",
       "      <th>rank</th>\n",
       "      <th>chance</th>\n",
       "    </tr>\n",
       "  </thead>\n",
       "  <tbody>\n",
       "    <tr>\n",
       "      <td>0</td>\n",
       "      <td>0</td>\n",
       "      <td>2</td>\n",
       "      <td>1</td>\n",
       "      <td>4</td>\n",
       "      <td>3</td>\n",
       "      <td>5217.695831</td>\n",
       "      <td>9.0</td>\n",
       "      <td>0.042857</td>\n",
       "    </tr>\n",
       "    <tr>\n",
       "      <td>1</td>\n",
       "      <td>0</td>\n",
       "      <td>2</td>\n",
       "      <td>4</td>\n",
       "      <td>1</td>\n",
       "      <td>3</td>\n",
       "      <td>5497.351715</td>\n",
       "      <td>5.0</td>\n",
       "      <td>0.023810</td>\n",
       "    </tr>\n",
       "    <tr>\n",
       "      <td>2</td>\n",
       "      <td>0</td>\n",
       "      <td>3</td>\n",
       "      <td>1</td>\n",
       "      <td>4</td>\n",
       "      <td>2</td>\n",
       "      <td>6371.368958</td>\n",
       "      <td>1.0</td>\n",
       "      <td>0.004762</td>\n",
       "    </tr>\n",
       "    <tr>\n",
       "      <td>3</td>\n",
       "      <td>0</td>\n",
       "      <td>3</td>\n",
       "      <td>4</td>\n",
       "      <td>2</td>\n",
       "      <td>1</td>\n",
       "      <td>5261.753357</td>\n",
       "      <td>21.0</td>\n",
       "      <td>0.100000</td>\n",
       "    </tr>\n",
       "    <tr>\n",
       "      <td>4</td>\n",
       "      <td>0</td>\n",
       "      <td>4</td>\n",
       "      <td>2</td>\n",
       "      <td>3</td>\n",
       "      <td>1</td>\n",
       "      <td>6105.118774</td>\n",
       "      <td>2.0</td>\n",
       "      <td>0.009524</td>\n",
       "    </tr>\n",
       "    <tr>\n",
       "      <td>5</td>\n",
       "      <td>3</td>\n",
       "      <td>0</td>\n",
       "      <td>2</td>\n",
       "      <td>1</td>\n",
       "      <td>4</td>\n",
       "      <td>5217.559174</td>\n",
       "      <td>10.0</td>\n",
       "      <td>0.047619</td>\n",
       "    </tr>\n",
       "    <tr>\n",
       "      <td>6</td>\n",
       "      <td>3</td>\n",
       "      <td>0</td>\n",
       "      <td>2</td>\n",
       "      <td>4</td>\n",
       "      <td>1</td>\n",
       "      <td>4787.468414</td>\n",
       "      <td>16.0</td>\n",
       "      <td>0.076190</td>\n",
       "    </tr>\n",
       "    <tr>\n",
       "      <td>7</td>\n",
       "      <td>4</td>\n",
       "      <td>0</td>\n",
       "      <td>2</td>\n",
       "      <td>3</td>\n",
       "      <td>1</td>\n",
       "      <td>4780.965195</td>\n",
       "      <td>35.0</td>\n",
       "      <td>0.166667</td>\n",
       "    </tr>\n",
       "    <tr>\n",
       "      <td>8</td>\n",
       "      <td>4</td>\n",
       "      <td>2</td>\n",
       "      <td>0</td>\n",
       "      <td>1</td>\n",
       "      <td>3</td>\n",
       "      <td>4620.952927</td>\n",
       "      <td>20.0</td>\n",
       "      <td>0.095238</td>\n",
       "    </tr>\n",
       "    <tr>\n",
       "      <td>9</td>\n",
       "      <td>4</td>\n",
       "      <td>2</td>\n",
       "      <td>0</td>\n",
       "      <td>3</td>\n",
       "      <td>1</td>\n",
       "      <td>4677.905930</td>\n",
       "      <td>19.0</td>\n",
       "      <td>0.090476</td>\n",
       "    </tr>\n",
       "    <tr>\n",
       "      <td>10</td>\n",
       "      <td>4</td>\n",
       "      <td>2</td>\n",
       "      <td>1</td>\n",
       "      <td>0</td>\n",
       "      <td>3</td>\n",
       "      <td>5762.490860</td>\n",
       "      <td>3.0</td>\n",
       "      <td>0.014286</td>\n",
       "    </tr>\n",
       "    <tr>\n",
       "      <td>11</td>\n",
       "      <td>4</td>\n",
       "      <td>2</td>\n",
       "      <td>1</td>\n",
       "      <td>3</td>\n",
       "      <td>0</td>\n",
       "      <td>5580.584427</td>\n",
       "      <td>4.0</td>\n",
       "      <td>0.019048</td>\n",
       "    </tr>\n",
       "    <tr>\n",
       "      <td>12</td>\n",
       "      <td>4</td>\n",
       "      <td>2</td>\n",
       "      <td>3</td>\n",
       "      <td>0</td>\n",
       "      <td>1</td>\n",
       "      <td>5046.905350</td>\n",
       "      <td>54.0</td>\n",
       "      <td>0.257143</td>\n",
       "    </tr>\n",
       "    <tr>\n",
       "      <td>13</td>\n",
       "      <td>4</td>\n",
       "      <td>3</td>\n",
       "      <td>1</td>\n",
       "      <td>2</td>\n",
       "      <td>0</td>\n",
       "      <td>5188.636765</td>\n",
       "      <td>11.0</td>\n",
       "      <td>0.052381</td>\n",
       "    </tr>\n",
       "  </tbody>\n",
       "</table>\n",
       "</div>"
      ],
      "text/plain": [
       "    0  1  2  3  4   total_time  rank    chance\n",
       "0   0  2  1  4  3  5217.695831   9.0  0.042857\n",
       "1   0  2  4  1  3  5497.351715   5.0  0.023810\n",
       "2   0  3  1  4  2  6371.368958   1.0  0.004762\n",
       "3   0  3  4  2  1  5261.753357  21.0  0.100000\n",
       "4   0  4  2  3  1  6105.118774   2.0  0.009524\n",
       "5   3  0  2  1  4  5217.559174  10.0  0.047619\n",
       "6   3  0  2  4  1  4787.468414  16.0  0.076190\n",
       "7   4  0  2  3  1  4780.965195  35.0  0.166667\n",
       "8   4  2  0  1  3  4620.952927  20.0  0.095238\n",
       "9   4  2  0  3  1  4677.905930  19.0  0.090476\n",
       "10  4  2  1  0  3  5762.490860   3.0  0.014286\n",
       "11  4  2  1  3  0  5580.584427   4.0  0.019048\n",
       "12  4  2  3  0  1  5046.905350  54.0  0.257143\n",
       "13  4  3  1  2  0  5188.636765  11.0  0.052381"
      ]
     },
     "execution_count": 126,
     "metadata": {},
     "output_type": "execute_result"
    }
   ],
   "source": [
    "get_optimal_order(test_start, test_df, test_date, 20, 2)"
   ]
  },
  {
   "cell_type": "code",
   "execution_count": 109,
   "metadata": {},
   "outputs": [],
   "source": [
    "#prepare/rank intial population\n",
    "def rank(start_pt, input_pop, orig_pts, datetime):\n",
    "    \n",
    "    hold_df = pd.DataFrame(input_pop)\n",
    "    \n",
    "    total_time_hold = [0] * len(input_pop)\n",
    "    \n",
    "    for i in range(len(input_pop)):\n",
    "              \n",
    "        total_time_hold[i] = get_total_time(pd.concat([start_pt, orig_pts.reindex(input_pop[i])]), datetime)\n",
    "    \n",
    "    #add total time column / fitness \n",
    "    hold_df['total_time'] = total_time_hold\n",
    "    \n",
    "    #add rank column which gives the highest rank to the combination with the lowest total trip duration\n",
    "    hold_df['rank'] = len(hold_df) - hold_df['total_time'].rank() + 1\n",
    "    \n",
    "    #add chance column which uses rank to calculate probability of being chosen as a parent\n",
    "    ##higher fitness means higher chance of breeding\n",
    "    hold_df['chance'] = hold_df['rank']*2/(len(hold_df)*(len(hold_df)+1))\n",
    "    \n",
    "    return(hold_df)   "
   ]
  },
  {
   "cell_type": "code",
   "execution_count": 114,
   "metadata": {},
   "outputs": [],
   "source": [
    "from itertools import permutations "
   ]
  },
  {
   "cell_type": "code",
   "execution_count": 116,
   "metadata": {},
   "outputs": [],
   "source": [
    "perm = list(permutations(list(test_set.index))) \n",
    "test_full = rank(perm, test_set, test_date)"
   ]
  },
  {
   "cell_type": "code",
   "execution_count": 123,
   "metadata": {},
   "outputs": [
    {
     "data": {
      "text/plain": [
       "[[2, 1, 4, 3, 0],\n",
       " [4, 3, 1, 2, 0],\n",
       " [4, 2, 1, 3, 0],\n",
       " [4, 0, 3, 2, 1],\n",
       " [1, 4, 3, 2, 0],\n",
       " [1, 2, 0, 4, 3],\n",
       " [4, 3, 0, 2, 1],\n",
       " [1, 2, 3, 4, 0],\n",
       " [1, 0, 4, 3, 2],\n",
       " [4, 3, 1, 2, 0],\n",
       " [4, 1, 3, 0, 2],\n",
       " [0, 2, 4, 3, 1],\n",
       " [1, 4, 0, 3, 2],\n",
       " [4, 3, 1, 2, 0],\n",
       " [4, 0, 3, 2, 1],\n",
       " [0, 4, 2, 3, 1],\n",
       " [1, 2, 0, 4, 3],\n",
       " [3, 0, 1, 2, 4],\n",
       " [2, 1, 0, 4, 3],\n",
       " [0, 4, 3, 1, 2]]"
      ]
     },
     "execution_count": 123,
     "metadata": {},
     "output_type": "execute_result"
    }
   ],
   "source": [
    "init_pop"
   ]
  },
  {
   "cell_type": "code",
   "execution_count": 120,
   "metadata": {},
   "outputs": [
    {
     "data": {
      "text/html": [
       "<div>\n",
       "<style scoped>\n",
       "    .dataframe tbody tr th:only-of-type {\n",
       "        vertical-align: middle;\n",
       "    }\n",
       "\n",
       "    .dataframe tbody tr th {\n",
       "        vertical-align: top;\n",
       "    }\n",
       "\n",
       "    .dataframe thead th {\n",
       "        text-align: right;\n",
       "    }\n",
       "</style>\n",
       "<table border=\"1\" class=\"dataframe\">\n",
       "  <thead>\n",
       "    <tr style=\"text-align: right;\">\n",
       "      <th></th>\n",
       "      <th>pickup_longitude</th>\n",
       "      <th>pickup_latitude</th>\n",
       "    </tr>\n",
       "  </thead>\n",
       "  <tbody>\n",
       "    <tr>\n",
       "      <td>4</td>\n",
       "      <td>-73.970215</td>\n",
       "      <td>40.761475</td>\n",
       "    </tr>\n",
       "    <tr>\n",
       "      <td>3</td>\n",
       "      <td>-73.956070</td>\n",
       "      <td>40.771900</td>\n",
       "    </tr>\n",
       "    <tr>\n",
       "      <td>1</td>\n",
       "      <td>-73.964203</td>\n",
       "      <td>40.679993</td>\n",
       "    </tr>\n",
       "    <tr>\n",
       "      <td>2</td>\n",
       "      <td>-73.997437</td>\n",
       "      <td>40.737583</td>\n",
       "    </tr>\n",
       "    <tr>\n",
       "      <td>0</td>\n",
       "      <td>-73.988129</td>\n",
       "      <td>40.732029</td>\n",
       "    </tr>\n",
       "  </tbody>\n",
       "</table>\n",
       "</div>"
      ],
      "text/plain": [
       "   pickup_longitude  pickup_latitude\n",
       "4        -73.970215        40.761475\n",
       "3        -73.956070        40.771900\n",
       "1        -73.964203        40.679993\n",
       "2        -73.997437        40.737583\n",
       "0        -73.988129        40.732029"
      ]
     },
     "execution_count": 120,
     "metadata": {},
     "output_type": "execute_result"
    }
   ],
   "source": [
    "test_df.reindex(init_pop[1])"
   ]
  },
  {
   "cell_type": "code",
   "execution_count": 118,
   "metadata": {
    "scrolled": true
   },
   "outputs": [
    {
     "data": {
      "text/plain": [
       "5188.636764526367"
      ]
     },
     "execution_count": 118,
     "metadata": {},
     "output_type": "execute_result"
    }
   ],
   "source": [
    "get_total_time(pd.concat([test_start, test_df.reindex(init_pop[1])]), test_date)"
   ]
  },
  {
   "cell_type": "code",
   "execution_count": 133,
   "metadata": {},
   "outputs": [],
   "source": [
    "bok_data=pd.DataFrame(data=dict(x=[], y=[]))"
   ]
  },
  {
   "cell_type": "code",
   "execution_count": 136,
   "metadata": {},
   "outputs": [],
   "source": [
    "bok_data.columns = ('pickup_longitude', 'pickup_latitude')"
   ]
  },
  {
   "cell_type": "code",
   "execution_count": 137,
   "metadata": {
    "scrolled": true
   },
   "outputs": [
    {
     "data": {
      "text/html": [
       "<div>\n",
       "<style scoped>\n",
       "    .dataframe tbody tr th:only-of-type {\n",
       "        vertical-align: middle;\n",
       "    }\n",
       "\n",
       "    .dataframe tbody tr th {\n",
       "        vertical-align: top;\n",
       "    }\n",
       "\n",
       "    .dataframe thead th {\n",
       "        text-align: right;\n",
       "    }\n",
       "</style>\n",
       "<table border=\"1\" class=\"dataframe\">\n",
       "  <thead>\n",
       "    <tr style=\"text-align: right;\">\n",
       "      <th></th>\n",
       "      <th>pickup_longitude</th>\n",
       "      <th>pickup_latitude</th>\n",
       "    </tr>\n",
       "  </thead>\n",
       "  <tbody>\n",
       "  </tbody>\n",
       "</table>\n",
       "</div>"
      ],
      "text/plain": [
       "Empty DataFrame\n",
       "Columns: [pickup_longitude, pickup_latitude]\n",
       "Index: []"
      ]
     },
     "execution_count": 137,
     "metadata": {},
     "output_type": "execute_result"
    }
   ],
   "source": [
    "bok_data"
   ]
  },
  {
   "cell_type": "code",
   "execution_count": 138,
   "metadata": {},
   "outputs": [],
   "source": [
    "testz=dict(x=[], y=[])"
   ]
  },
  {
   "cell_type": "code",
   "execution_count": 155,
   "metadata": {},
   "outputs": [],
   "source": [
    "coordList=[]"
   ]
  },
  {
   "cell_type": "code",
   "execution_count": 140,
   "metadata": {},
   "outputs": [],
   "source": [
    "Coords=(-10,10)"
   ]
  },
  {
   "cell_type": "code",
   "execution_count": 141,
   "metadata": {},
   "outputs": [],
   "source": []
  },
  {
   "cell_type": "code",
   "execution_count": 154,
   "metadata": {},
   "outputs": [
    {
     "data": {
      "text/html": [
       "<div>\n",
       "<style scoped>\n",
       "    .dataframe tbody tr th:only-of-type {\n",
       "        vertical-align: middle;\n",
       "    }\n",
       "\n",
       "    .dataframe tbody tr th {\n",
       "        vertical-align: top;\n",
       "    }\n",
       "\n",
       "    .dataframe thead th {\n",
       "        text-align: right;\n",
       "    }\n",
       "</style>\n",
       "<table border=\"1\" class=\"dataframe\">\n",
       "  <thead>\n",
       "    <tr style=\"text-align: right;\">\n",
       "      <th></th>\n",
       "      <th>pickup_longitude</th>\n",
       "      <th>pickup_latitude</th>\n",
       "    </tr>\n",
       "  </thead>\n",
       "  <tbody>\n",
       "    <tr>\n",
       "      <td>0</td>\n",
       "      <td>1.0</td>\n",
       "      <td>2.0</td>\n",
       "    </tr>\n",
       "    <tr>\n",
       "      <td>1</td>\n",
       "      <td>1.0</td>\n",
       "      <td>2.0</td>\n",
       "    </tr>\n",
       "    <tr>\n",
       "      <td>2</td>\n",
       "      <td>1.0</td>\n",
       "      <td>2.0</td>\n",
       "    </tr>\n",
       "  </tbody>\n",
       "</table>\n",
       "</div>"
      ],
      "text/plain": [
       "   pickup_longitude  pickup_latitude\n",
       "0               1.0              2.0\n",
       "1               1.0              2.0\n",
       "2               1.0              2.0"
      ]
     },
     "execution_count": 154,
     "metadata": {},
     "output_type": "execute_result"
    }
   ],
   "source": [
    "bok_data.loc[len(bok_data)] = [1,2]\n",
    "bok_data"
   ]
  },
  {
   "cell_type": "code",
   "execution_count": 143,
   "metadata": {},
   "outputs": [
    {
     "data": {
      "text/plain": [
       "{'x': [-10], 'y': [10]}"
      ]
     },
     "execution_count": 143,
     "metadata": {},
     "output_type": "execute_result"
    }
   ],
   "source": [
    "dict(x=[i[0] for i in coordList], y=[i[1] for i in coordList])"
   ]
  },
  {
   "cell_type": "code",
   "execution_count": 144,
   "metadata": {},
   "outputs": [
    {
     "data": {
      "text/plain": [
       "{'x': [], 'y': []}"
      ]
     },
     "execution_count": 144,
     "metadata": {},
     "output_type": "execute_result"
    }
   ],
   "source": []
  }
 ],
 "metadata": {
  "kernelspec": {
   "display_name": "Python 3",
   "language": "python",
   "name": "python3"
  },
  "language_info": {
   "codemirror_mode": {
    "name": "ipython",
    "version": 3
   },
   "file_extension": ".py",
   "mimetype": "text/x-python",
   "name": "python",
   "nbconvert_exporter": "python",
   "pygments_lexer": "ipython3",
   "version": "3.7.4"
  }
 },
 "nbformat": 4,
 "nbformat_minor": 2
}
