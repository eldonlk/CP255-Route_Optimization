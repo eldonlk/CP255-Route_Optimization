{
 "cells": [
  {
   "cell_type": "code",
   "execution_count": 1,
   "metadata": {},
   "outputs": [],
   "source": [
    "import zipfile\n",
    "import numpy as np\n",
    "import pandas as pd\n",
    "from datetime import datetime\n",
    "\n",
    "from sklearn.model_selection import train_test_split\n",
    "from sklearn.metrics import mean_squared_log_error\n",
    "import xgboost as xgb\n",
    "\n",
    "import pickle"
   ]
  },
  {
   "cell_type": "code",
   "execution_count": 2,
   "metadata": {},
   "outputs": [],
   "source": [
    "#loading data\n",
    "taxi_train = pd.read_csv('data/train.csv')\n",
    "taxi_test = pd.read_csv('data/test.csv')"
   ]
  },
  {
   "cell_type": "code",
   "execution_count": 3,
   "metadata": {
    "scrolled": false
   },
   "outputs": [
    {
     "data": {
      "text/plain": [
       "count    1.458644e+06\n",
       "mean     2.665256e-01\n",
       "std      1.454842e+00\n",
       "min      2.777778e-04\n",
       "25%      1.102778e-01\n",
       "50%      1.838889e-01\n",
       "75%      2.986111e-01\n",
       "max      9.795228e+02\n",
       "Name: trip_duration, dtype: float64"
      ]
     },
     "execution_count": 3,
     "metadata": {},
     "output_type": "execute_result"
    }
   ],
   "source": [
    "(taxi_train['trip_duration']/3600).describe()"
   ]
  },
  {
   "cell_type": "code",
   "execution_count": 3,
   "metadata": {},
   "outputs": [],
   "source": [
    "def clean_df(input_df):\n",
    "    \n",
    "    df = input_df\n",
    "    \n",
    "    col_list = ['pickup_longitude', \n",
    "        'pickup_latitude', \n",
    "        'dropoff_longitude', \n",
    "        'dropoff_latitude', \n",
    "        'trip_duration',\n",
    "        'pickup_minute',\n",
    "        'pickup_hour',\n",
    "        'pickup_month',\n",
    "        'pickup_day',\n",
    "        'pickup_weekday']\n",
    "    \n",
    "    #changing datetime column to datetime class\n",
    "    df['pickup_datetime_hold'] = pd.to_datetime(df['pickup_datetime'])\n",
    "    \n",
    "    #adding minute column\n",
    "    df['pickup_minute'] = df.apply(lambda x: x.pickup_datetime_hold.minute, axis = 1) \n",
    "\n",
    "    #adding hour column\n",
    "    df['pickup_hour'] = df.apply(lambda x: x.pickup_datetime_hold.hour, axis = 1) \n",
    "\n",
    "    #adding month column\n",
    "    df['pickup_month'] = df.apply(lambda x: x.pickup_datetime_hold.month, axis = 1) \n",
    "\n",
    "    #adding day of month column\n",
    "    df['pickup_day'] = df.apply(lambda x: x.pickup_datetime_hold.day, axis = 1) \n",
    "\n",
    "    #adding day of week column\n",
    "    df['pickup_weekday'] = df.apply(lambda x: datetime.weekday(x.pickup_datetime_hold), axis = 1) \n",
    "    \n",
    "    return(df[df.columns.intersection(col_list)])"
   ]
  },
  {
   "cell_type": "code",
   "execution_count": 4,
   "metadata": {
    "scrolled": true
   },
   "outputs": [],
   "source": [
    "taxi_train_clean = clean_df(taxi_train)"
   ]
  },
  {
   "cell_type": "code",
   "execution_count": 5,
   "metadata": {
    "scrolled": true
   },
   "outputs": [],
   "source": [
    "taxi_test_clean = clean_df(taxi_test)"
   ]
  },
  {
   "cell_type": "code",
   "execution_count": 6,
   "metadata": {
    "scrolled": true
   },
   "outputs": [],
   "source": [
    "# hold = pd.concat([taxi_train_clean, taxi_test_clean], axis = 0)\n",
    "hold = taxi_train_clean"
   ]
  },
  {
   "cell_type": "code",
   "execution_count": 8,
   "metadata": {
    "scrolled": true
   },
   "outputs": [
    {
     "data": {
      "text/html": [
       "<div>\n",
       "<style scoped>\n",
       "    .dataframe tbody tr th:only-of-type {\n",
       "        vertical-align: middle;\n",
       "    }\n",
       "\n",
       "    .dataframe tbody tr th {\n",
       "        vertical-align: top;\n",
       "    }\n",
       "\n",
       "    .dataframe thead th {\n",
       "        text-align: right;\n",
       "    }\n",
       "</style>\n",
       "<table border=\"1\" class=\"dataframe\">\n",
       "  <thead>\n",
       "    <tr style=\"text-align: right;\">\n",
       "      <th></th>\n",
       "      <th>pickup_longitude</th>\n",
       "      <th>pickup_latitude</th>\n",
       "      <th>dropoff_longitude</th>\n",
       "      <th>dropoff_latitude</th>\n",
       "      <th>trip_duration</th>\n",
       "      <th>pickup_minute</th>\n",
       "      <th>pickup_hour</th>\n",
       "      <th>pickup_month</th>\n",
       "      <th>pickup_day</th>\n",
       "      <th>pickup_weekday</th>\n",
       "    </tr>\n",
       "  </thead>\n",
       "  <tbody>\n",
       "    <tr>\n",
       "      <td>0</td>\n",
       "      <td>-73.982155</td>\n",
       "      <td>40.767937</td>\n",
       "      <td>-73.964630</td>\n",
       "      <td>40.765602</td>\n",
       "      <td>455</td>\n",
       "      <td>24</td>\n",
       "      <td>17</td>\n",
       "      <td>3</td>\n",
       "      <td>14</td>\n",
       "      <td>0</td>\n",
       "    </tr>\n",
       "    <tr>\n",
       "      <td>1</td>\n",
       "      <td>-73.980415</td>\n",
       "      <td>40.738564</td>\n",
       "      <td>-73.999481</td>\n",
       "      <td>40.731152</td>\n",
       "      <td>663</td>\n",
       "      <td>43</td>\n",
       "      <td>0</td>\n",
       "      <td>6</td>\n",
       "      <td>12</td>\n",
       "      <td>6</td>\n",
       "    </tr>\n",
       "    <tr>\n",
       "      <td>2</td>\n",
       "      <td>-73.979027</td>\n",
       "      <td>40.763939</td>\n",
       "      <td>-74.005333</td>\n",
       "      <td>40.710087</td>\n",
       "      <td>2124</td>\n",
       "      <td>35</td>\n",
       "      <td>11</td>\n",
       "      <td>1</td>\n",
       "      <td>19</td>\n",
       "      <td>1</td>\n",
       "    </tr>\n",
       "    <tr>\n",
       "      <td>3</td>\n",
       "      <td>-74.010040</td>\n",
       "      <td>40.719971</td>\n",
       "      <td>-74.012268</td>\n",
       "      <td>40.706718</td>\n",
       "      <td>429</td>\n",
       "      <td>32</td>\n",
       "      <td>19</td>\n",
       "      <td>4</td>\n",
       "      <td>6</td>\n",
       "      <td>2</td>\n",
       "    </tr>\n",
       "    <tr>\n",
       "      <td>4</td>\n",
       "      <td>-73.973053</td>\n",
       "      <td>40.793209</td>\n",
       "      <td>-73.972923</td>\n",
       "      <td>40.782520</td>\n",
       "      <td>435</td>\n",
       "      <td>30</td>\n",
       "      <td>13</td>\n",
       "      <td>3</td>\n",
       "      <td>26</td>\n",
       "      <td>5</td>\n",
       "    </tr>\n",
       "  </tbody>\n",
       "</table>\n",
       "</div>"
      ],
      "text/plain": [
       "   pickup_longitude  pickup_latitude  dropoff_longitude  dropoff_latitude  \\\n",
       "0        -73.982155        40.767937         -73.964630         40.765602   \n",
       "1        -73.980415        40.738564         -73.999481         40.731152   \n",
       "2        -73.979027        40.763939         -74.005333         40.710087   \n",
       "3        -74.010040        40.719971         -74.012268         40.706718   \n",
       "4        -73.973053        40.793209         -73.972923         40.782520   \n",
       "\n",
       "   trip_duration  pickup_minute  pickup_hour  pickup_month  pickup_day  \\\n",
       "0            455             24           17             3          14   \n",
       "1            663             43            0             6          12   \n",
       "2           2124             35           11             1          19   \n",
       "3            429             32           19             4           6   \n",
       "4            435             30           13             3          26   \n",
       "\n",
       "   pickup_weekday  \n",
       "0               0  \n",
       "1               6  \n",
       "2               1  \n",
       "3               2  \n",
       "4               5  "
      ]
     },
     "execution_count": 8,
     "metadata": {},
     "output_type": "execute_result"
    }
   ],
   "source": [
    "hold.head()"
   ]
  },
  {
   "cell_type": "code",
   "execution_count": 7,
   "metadata": {},
   "outputs": [],
   "source": [
    "#preparing dependent and independent variables\n",
    "X = hold.drop([\"trip_duration\"], axis=1)\n",
    "y = hold[\"trip_duration\"]"
   ]
  },
  {
   "cell_type": "code",
   "execution_count": 8,
   "metadata": {},
   "outputs": [],
   "source": [
    "#Split the data into training, test, and valdiation sets\n",
    "X_train, X_test, y_train, y_test = train_test_split(X, y, test_size = 0.2, random_state = 1234)\n",
    "X_train, X_val, y_train, y_val = train_test_split(X_train, y_train, test_size = 0.2, random_state = 4321)"
   ]
  },
  {
   "cell_type": "code",
   "execution_count": 14,
   "metadata": {},
   "outputs": [],
   "source": [
    "#grading mean squared log error\n",
    "def rmsle(y_true, y_pred):\n",
    "    return np.sqrt(mean_squared_log_error(y_true, y_pred))"
   ]
  },
  {
   "cell_type": "code",
   "execution_count": 15,
   "metadata": {},
   "outputs": [],
   "source": [
    "#XGBoost parameters \n",
    "params = {\n",
    "    'booster':            'gbtree',\n",
    "#     'objective':          'reg:squarederror',\n",
    "    'objective':          'reg:linear',\n",
    "    'learning_rate':      0.05,\n",
    "    'max_depth':          14,\n",
    "    'subsample':          0.9,\n",
    "    'colsample_bytree':   0.7,\n",
    "    'colsample_bylevel':  0.7,\n",
    "    'silent':             1,\n",
    "    'feval':              'rmsle'\n",
    "}"
   ]
  },
  {
   "cell_type": "code",
   "execution_count": 16,
   "metadata": {},
   "outputs": [],
   "source": [
    "#setting the number of rounds\n",
    "nrounds = 2500"
   ]
  },
  {
   "cell_type": "code",
   "execution_count": 19,
   "metadata": {},
   "outputs": [],
   "source": [
    "#Define train and validation sets\n",
    "dtrain = xgb.DMatrix(X_train, np.log(y_train+1))\n",
    "dval = xgb.DMatrix(X_val, np.log(y_val+1))\n",
    "\n",
    "#error tracking\n",
    "watchlist = [(dval, 'eval'), (dtrain, 'train')]"
   ]
  },
  {
   "cell_type": "code",
   "execution_count": 1,
   "metadata": {
    "scrolled": true
   },
   "outputs": [],
   "source": [
    "#Train model\n",
    "gbm = xgb.train(params,\n",
    "                dtrain,\n",
    "                num_boost_round = nrounds,\n",
    "                evals = watchlist,\n",
    "                verbose_eval = True\n",
    "                )"
   ]
  },
  {
   "cell_type": "code",
   "execution_count": 21,
   "metadata": {
    "scrolled": true
   },
   "outputs": [],
   "source": [
    "#Test predictions\n",
    "pred = np.exp(gbm.predict(xgb.DMatrix(X_test))) - 1"
   ]
  },
  {
   "cell_type": "code",
   "execution_count": 22,
   "metadata": {
    "scrolled": true
   },
   "outputs": [
    {
     "data": {
      "text/plain": [
       "294.10121522035763"
      ]
     },
     "execution_count": 22,
     "metadata": {},
     "output_type": "execute_result"
    }
   ],
   "source": [
    "#mean absolute error\n",
    "mae = (abs(pred - y_test)).mean()\n",
    "mae"
   ]
  },
  {
   "cell_type": "code",
   "execution_count": 56,
   "metadata": {
    "scrolled": true
   },
   "outputs": [
    {
     "data": {
      "text/plain": [
       "58474109.64396217"
      ]
     },
     "execution_count": 56,
     "metadata": {},
     "output_type": "execute_result"
    }
   ],
   "source": [
    "#mean squared error\n",
    "mse = ((pred - y_test)**2).mean()\n",
    "mse"
   ]
  },
  {
   "cell_type": "code",
   "execution_count": 57,
   "metadata": {
    "scrolled": true
   },
   "outputs": [
    {
     "data": {
      "text/plain": [
       "{'dropoff_longitude': 1050549,\n",
       " 'dropoff_latitude': 1113878,\n",
       " 'pickup_latitude': 1149541,\n",
       " 'pickup_minute': 677938,\n",
       " 'pickup_month': 306068,\n",
       " 'pickup_day': 530039,\n",
       " 'pickup_longitude': 1245797,\n",
       " 'pickup_weekday': 290523,\n",
       " 'pickup_hour': 515341}"
      ]
     },
     "execution_count": 57,
     "metadata": {},
     "output_type": "execute_result"
    }
   ],
   "source": [
    "#feature scores\n",
    "feature_scores = gbm.get_fscore()\n",
    "feature_scores"
   ]
  },
  {
   "cell_type": "code",
   "execution_count": 58,
   "metadata": {
    "scrolled": false
   },
   "outputs": [
    {
     "data": {
      "text/plain": [
       "{'dropoff_longitude': 0.1527033112324799,\n",
       " 'dropoff_latitude': 0.16190854392228468,\n",
       " 'pickup_latitude': 0.16709236513241763,\n",
       " 'pickup_minute': 0.09854216929464972,\n",
       " 'pickup_month': 0.044488735948825485,\n",
       " 'pickup_day': 0.07704420296659406,\n",
       " 'pickup_longitude': 0.18108372576956408,\n",
       " 'pickup_weekday': 0.04222918120829563,\n",
       " 'pickup_hour': 0.07490776452488883}"
      ]
     },
     "execution_count": 58,
     "metadata": {},
     "output_type": "execute_result"
    }
   ],
   "source": [
    "#scale feature scores\n",
    "feat_sum = 0\n",
    "for key in feature_scores:\n",
    "    feat_sum= feat_sum + feature_scores[key]\n",
    "\n",
    "for key in feature_scores:\n",
    "    feature_scores[key] = feature_scores[key] / feat_sum\n",
    "\n",
    "feature_scores"
   ]
  },
  {
   "cell_type": "code",
   "execution_count": 59,
   "metadata": {},
   "outputs": [],
   "source": [
    "#save the model to be used\n",
    "filename = \"xgb_model.sav\"\n",
    "pickle.dump(gbm, open(filename, 'wb'))"
   ]
  }
 ],
 "metadata": {
  "kernelspec": {
   "display_name": "Python 3",
   "language": "python",
   "name": "python3"
  },
  "language_info": {
   "codemirror_mode": {
    "name": "ipython",
    "version": 3
   },
   "file_extension": ".py",
   "mimetype": "text/x-python",
   "name": "python",
   "nbconvert_exporter": "python",
   "pygments_lexer": "ipython3",
   "version": "3.7.4"
  }
 },
 "nbformat": 4,
 "nbformat_minor": 2
}
